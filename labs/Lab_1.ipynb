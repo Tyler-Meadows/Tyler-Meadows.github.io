{
 "cells": [
  {
   "cell_type": "markdown",
   "id": "6e021871",
   "metadata": {},
   "source": [
    "## MTHE 224 Lab 1: An Introduction to Python3 and Jupyter Notebooks\n",
    "### Section 1: Using Jupyter Notebooks\n",
    "Jupyter notebooks are organized into cells. Each cell contains either chunks of code&mdash;in our case this means Python 3 code, although you can use Jupyter with other programming languages as well&mdash;or miniature documents written with the word processing language markdown. In order to alternate between cell types, click on box at the bottom right of the cell that says \"Python 3\" or \"Markdown\". There should be a big list of options, but we will only use the Python and Markdown options.\n",
    "\n",
    "To execute code in the selected block, you can either click the \"run by line\" button that appears on the top right of the cell, or you can use the keyboard shortcut `shift+enter`. Executing code works for all cell types. When executing a markdown cell, your markdown code will be converted to a typeset html document. Executing a cell of python code will run all the commands writtin in that cell, saving whatever variables you have defined. The python kernel remembers those variable assignments so you can call on them in subsequent cells. \n",
    "\n",
    "### Section 2: The Markdown environment\n",
    "Markdown is different from other word processing programs, such as microsoft word, in that you are essentially 'coding' the document that you are writing. There are some benfits to this, and some drawback. One obvious drawback is that you don't see how the document looks as you are writing it, which can be a difficult adjustment. A large benfit though, is that you have much more control over formatting, and mathematical equations are much easier to input. You can double click on this section to see an example of what markdown code looks like, compared to the final product. For more information about markdown, see [this webpage,](https://daringfireball.net/projects/markdown/basics) made by the creator of markdown. I recommend you bookmark that page as a reference. \n",
    "\n",
    "In some of your lab submissions, you may be asked to provide some mathematical explanations of your work. To render mathematical formulas, simply surround them with dollar signs, for example $e^{i\\pi} = 1.$ For longer equations, use two dollar signs on each side of your mathematical formula and the equation will get its own line. For example: $$1 = \\int_{-\\infty}^{\\infty} \\frac{1}{\\sqrt{2\\pi\\sigma}}e^{\\frac{(x-\\mu)^2}{2\\sigma^2}}dx.$$ Mathematical formula are input according to standard Latex commands, which can be found [here.](http://tug.ctan.org/info/undergradmath/undergradmath.pdf\") I recommend you save this pdf as a reference. \n",
    "\n",
    "### Section 3: Basics of Python3\n",
    "\n",
    "Unlike C++, which you may have used as part of a previous course, Python is an interpreted programming language. This means that you don't have to recompile the code everytime you make a change. You are able to execute individual lines of code, one at a time, and see what happens. There are some obvious advantages to this: For one thing, it lets you try out things as you go, and if you find that your code is not doing what you expected, you can make changes quickly to see what the outcomes are. The trade-off is that when you go to run your code, it executes more slowly than a compiled language like C++. For what we want to do in this course, the loss of speed will not be noticable. For more advanced programming endeavours, like machine learning, fluid dynamics simulations, or financial applications, the speed difference can be very noticable. If you're interested, there are some programming languages (like [Julia](www.Julialang.org)) that cover a middle ground using something called \"just-in-time\" (jit) compilation.\n",
    "\n",
    "The remainder of this lab will be focused on getting to know the basics of how to use Python3. In the statistics portion of this course, we will be using python to sort, interpret, plot, and summarize data, as well as generate random numbers and simulate experiments to generate our own data. In order to do any of this, we have to first learn what commands python understands, and what the results of those commands will be.\n",
    "\n",
    "#### The 'print' command\n",
    "The first program most people write is a \"hello world\" program, in which you simply have the language return the words \"hello world\" when the program is run. In python 'print' is a function that will output whatever the function input is. In general, to print out words, they must be surrounded by quotation marks to tell python that the words are not variables. See a simple example below"
   ]
  },
  {
   "cell_type": "code",
   "execution_count": 18,
   "id": "911c2a2b",
   "metadata": {},
   "outputs": [
    {
     "name": "stdout",
     "output_type": "stream",
     "text": [
      "Hello World\n"
     ]
    }
   ],
   "source": [
    "print(\"Hello World\") #Comments are preceded by a #. This is a very simple python program. "
   ]
  },
  {
   "cell_type": "markdown",
   "id": "9b1d0348",
   "metadata": {},
   "source": [
    "##### Arithmetic in python\n",
    "Python arithmetic is done mostly how you would expect. To add two numbers use +, to subract use -, to multiply use *, and to divide use /.  Exponents are done using ** instead of ^, "
   ]
  },
  {
   "cell_type": "code",
   "execution_count": 57,
   "id": "89706828",
   "metadata": {},
   "outputs": [
    {
     "data": {
      "text/plain": [
       "1"
      ]
     },
     "execution_count": 57,
     "metadata": {},
     "output_type": "execute_result"
    }
   ],
   "source": [
    "3+4 # Addition\n",
    "4-3 # Subraction\n",
    "4*3 # Multiplication\n",
    "4/3 # Division\n",
    "4**2 # Exponents\n",
    "4%3 # Modular arithmetic. Finds the remainder of 4/3"
   ]
  },
  {
   "cell_type": "markdown",
   "id": "311e2ea0",
   "metadata": {},
   "source": [
    "In general, a code cell will only return the result of the last line of the cell. To see all the results, you can put the arithmetic in a print command. "
   ]
  },
  {
   "cell_type": "code",
   "execution_count": 58,
   "id": "78c1c6d8",
   "metadata": {},
   "outputs": [
    {
     "name": "stdout",
     "output_type": "stream",
     "text": [
      "7\n",
      "1\n",
      "12\n",
      "1.3333333333333333\n",
      "16\n",
      "1\n"
     ]
    }
   ],
   "source": [
    "print(3+4) #Addition, and print the result\n",
    "print(4-3) #Subtraction, and print the result\n",
    "print(4*3) #Multiplication, and print the result\n",
    "print(4/3) #Division, and print the result\n",
    "print(4**2) #Square, and print the result\n",
    "print(4%3) #Print the remainder of 4/3"
   ]
  },
  {
   "cell_type": "markdown",
   "id": "615492c6",
   "metadata": {},
   "source": [
    "##### Variable assignment\n",
    "Often, we want to save values to use later. In order to do this we assign the values to a variable using =. If we later want to change the value of a variable, we can overwrite the assignment by simply assigning the different value to the same variable."
   ]
  },
  {
   "cell_type": "code",
   "execution_count": 12,
   "id": "0c7f6eed",
   "metadata": {},
   "outputs": [
    {
     "name": "stdout",
     "output_type": "stream",
     "text": [
      "12\n",
      "15\n",
      "0\n"
     ]
    }
   ],
   "source": [
    "x = 3*4 #Assign the result of 3*4 to 'x'\n",
    "print(x) #Print the value of x\n",
    "print(x+3) #Print the value of x +3\n",
    "x = 0 #Assign the value of 0 to 'x'\n",
    "print(x) #Print the value assigned to x"
   ]
  },
  {
   "cell_type": "markdown",
   "id": "c873cfef",
   "metadata": {},
   "source": [
    "##### Variable interpolation\n",
    "Sometimes, you may want to output a sentence that has the value of a variable in it. In order to do this, we precede the quotation marks with the letter f, then we can 'interpolate' the variable into the sentence by surrounding the variable with brace brackets. "
   ]
  },
  {
   "cell_type": "code",
   "execution_count": 15,
   "id": "1daeb835",
   "metadata": {},
   "outputs": [
    {
     "name": "stdout",
     "output_type": "stream",
     "text": [
      "the last value that I assigned to x is 0\n"
     ]
    }
   ],
   "source": [
    "print(f\"the last value that I assigned to x is {x}\") # {x} will be replaced by the value assigned to x in the previous Python cell"
   ]
  },
  {
   "cell_type": "markdown",
   "id": "4742679b",
   "metadata": {},
   "source": [
    "#### Arrays and Numpy\n",
    "Linear algebra is the backbone of all modern computing. In a lot of applications, we will want to organize our data into either a vector or a matrix. Python refers to both matrices and vectors as 'arrays', which are rectangular containers of numbers. In order to do use arrays, we will need to load an external package called `numpy`. Then whenever we want to use one of the functions associated with `numpy` we have to precede the command with `numpy`. For example to make an arrray we use the function `numpy.array`, and nested square brackets, each row of the array is contained in the inner nest of square brackets.\n",
    "\n",
    "In order to avoid writing out `numpy` so many times, we can tell Python we want to call it something simpler, like `np` when we import it."
   ]
  },
  {
   "cell_type": "code",
   "execution_count": 2,
   "id": "8a9f7919",
   "metadata": {},
   "outputs": [
    {
     "name": "stdout",
     "output_type": "stream",
     "text": [
      "[[1 2 3]\n",
      " [4 5 6]\n",
      " [7 8 9]]\n"
     ]
    }
   ],
   "source": [
    "import numpy as np ##This loads the numpy library, and lets us refer to it as simply np. \n",
    "\n",
    "A = np.array([[1,2,3],[4,5,6],[7,8,9]]) # This creates a 3x3 matrix of numbers from 1 to 9. \n",
    "print(A)"
   ]
  },
  {
   "cell_type": "markdown",
   "id": "d59b1838",
   "metadata": {},
   "source": [
    "In order to access the elements of an array, we can use the `A[i,j]` syntax, which returns the value in the $i$ th row and $j$ th column.\n",
    "\n",
    "**Note:** Python starts with an index at 0, so the first entry of the matrix is given by `A[0,0]`. There is a long standing debate between programmers about whether indexing starting at 0 or starting at 1 makes more sense. There are benefits and drawbacks to both, but personally I think you just get used to whatever you use the most. \n"
   ]
  },
  {
   "cell_type": "code",
   "execution_count": 34,
   "id": "bd845114",
   "metadata": {},
   "outputs": [
    {
     "name": "stdout",
     "output_type": "stream",
     "text": [
      "1\n",
      "6\n"
     ]
    }
   ],
   "source": [
    "print(A[0,0]) #Returns the value of A in the 1st row, 1st column\n",
    "print(A[1,2]) #Returns the value of A in the 2nd row, 3rd column."
   ]
  },
  {
   "cell_type": "markdown",
   "id": "f9d3515b",
   "metadata": {},
   "source": [
    "##### Constructing arrays more efficiently. \n",
    "The whole point of using a computer to do calculations for us is to make our lives easier. So what we don't usually want to do is manually input numbers into a matrix. We did that above with the numbers from 1 to 9, and that was tough enough. When we're making numbers than follow some pattern like this, we want a way to do it programmatically. For sequences that follow a simple pattern like the numbers from 1 to 9, we can make use of the `range` function. I.e. to return the numbers from 1 to 9 we would type `range(1,10)`. If we want something a little more complicated, say the even numbers from 0 to 20, we could write `range(0,21,2)`, which read as \"From 0 to 21 by 2\". Note that `range` excludes the last number of the range by default."
   ]
  },
  {
   "cell_type": "code",
   "execution_count": 17,
   "id": "6e81f311",
   "metadata": {},
   "outputs": [
    {
     "name": "stdout",
     "output_type": "stream",
     "text": [
      "[1 2 3 4 5 6 7 8 9]\n",
      "[ 0  2  4  6  8 10 12 14 16 18 20]\n"
     ]
    }
   ],
   "source": [
    "print(np.array(range(1,10))) ## array of numbers from 1 to 10 (not including 10)\n",
    "print(np.array(range(0,21,2))) ## array of even numbers from 0 to 21"
   ]
  },
  {
   "cell_type": "markdown",
   "id": "47ad6974",
   "metadata": {},
   "source": [
    "Each of these outputs is a 1-dimensional array. If we want them to be a square matrix, we can add on a `reshape` command to the end to get the dimensions we want. We have to be careful that when resizing the matrices that there are exactly the right number of entries available in the new shape. In the previous example, there are 11 even numbers between 0 and 21, which is a prime number. That means the only options we have for the shape of it array is either 11 rows and 1 column, or 1 row and 11 columns. \n",
    "\n",
    "This is not necessarily a more efficient way to create this 3x3 matrix, but for larger matrices, we certainly don't want to type out hundreds of numbers. "
   ]
  },
  {
   "cell_type": "code",
   "execution_count": 18,
   "id": "24aa00a6",
   "metadata": {},
   "outputs": [
    {
     "name": "stdout",
     "output_type": "stream",
     "text": [
      "[[1 2 3]\n",
      " [4 5 6]\n",
      " [7 8 9]]\n",
      "[[1 2 3]\n",
      " [4 5 6]\n",
      " [7 8 9]]\n"
     ]
    }
   ],
   "source": [
    "print(np.array(range(1,10)).reshape(3,3)) #Reshape the array of numbers from 1-9 to a 3x3 array."
   ]
  },
  {
   "cell_type": "markdown",
   "id": "4dc1e6a5",
   "metadata": {},
   "source": [
    "#### Special Matrix constructions\n",
    "\n",
    "Numpy comes with some methods for making certain types of matrices. For example if we want to make a diagonal matrix, we would rather not have to specify that all of the non-diagonal elements are zero. Here are some examples:\n",
    "- To make a diagonal matrix from a list of values A, use  `np.diag(A)`\n",
    "- To make the $n\\times n$ identity matrix, use `np.eye(n)`\n",
    "- To make an $n\\times m$ matrix of all zeros, use `np.zeros([n,m])`\n",
    "\n",
    "#### Loops and Conditions\n",
    "\n",
    "One of the most powerful things about programming is the ability to repeat a set procedure a lot of times very quickly. With python (and most programming languages) we do this either with for-loops or while-loops. When creating a loop, we typically have a value or values that we want to change at each subsequent step in the loop. The list of these values is called an <i>iterator</i>. To write a for-loop in Python, we start with a line in the form `for x in list:`, where `x` is what we'll use to refer to the elements in the list later. Python groups commands based on spacing, so everything that we want to be repeated as part of the loop needs to be indented the same number of spaces (or tabs). \n",
    "\n",
    "We often want to change the instructions based on some conditions about the value of the list. to do that we can use if-statements. To write an if-statement in Python, we start with a line in the form `if condition:` where `condition` is some Boolean statement (a Boolean statement is just something that python evaluates to either true or false. For example 1==2 is a Boolean statement that returns `false`). Everything grouped after this statement will be evaluated if the condition is true. To add instructions for what to do if the condition is false, we can include an else-statement after the if-statement's instructions. Else statements can add further conditions if we want by using and elseif-statement in the form `elseif condition:`.\n",
    "\n",
    "While-loops can be written in the form `while condition:` followed by a block of code that will be repeated until the condition is evaluated as `false`. <b> While-loops can be risky.</b> If you aren't careful to write your code to guarantee that the condition is eventually false, the code will run forever. Typically we only want to use while-loops if we're sure that the condition will eventually be false, but we're not sure how many steps it will take to get there. In general, if you can figure out a way to write a for-loop instead, it's better to do it that way. \n",
    "\n",
    "The following code prints the statement \"The number n is odd\" if n is odd and \"the number n is even\" if n is even for all the numbers between 1 and 10"
   ]
  },
  {
   "cell_type": "code",
   "execution_count": 50,
   "id": "015772f5",
   "metadata": {},
   "outputs": [
    {
     "name": "stdout",
     "output_type": "stream",
     "text": [
      "The number 1 is odd.\n",
      "The number 2 is even.\n",
      "The number 3 is odd.\n",
      "The number 4 is even.\n",
      "The number 5 is odd.\n",
      "The number 6 is even.\n",
      "The number 7 is odd.\n",
      "The number 8 is even.\n",
      "The number 9 is odd.\n",
      "The number 10 is even.\n"
     ]
    }
   ],
   "source": [
    "for n in range(1,11):\n",
    "    if n%2 == 1: # Checks to see what the remainder of n/2 is. If it's one then returns true and the following line is executed\n",
    "        print(f\"The number {n} is odd.\")\n",
    "    else: # If the if-statment returned false, the following line of code is executed\n",
    "        print(f\"The number {n} is even.\")"
   ]
  },
  {
   "cell_type": "markdown",
   "id": "c3a131fb",
   "metadata": {},
   "source": [
    "The following code completes the same action using a while-loop. The final line of code that increases the value of $n$ each loop is extremely important. Without this line, the code will just print \"The number 1 is odd\" forever."
   ]
  },
  {
   "cell_type": "code",
   "execution_count": 61,
   "id": "0c760bb7",
   "metadata": {},
   "outputs": [
    {
     "name": "stdout",
     "output_type": "stream",
     "text": [
      "The number 1 is odd.\n",
      "The number 2 is even.\n",
      "The number 3 is odd.\n",
      "The number 4 is even.\n",
      "The number 5 is odd.\n",
      "The number 6 is even.\n",
      "The number 7 is odd.\n",
      "The number 8 is even.\n",
      "The number 9 is odd.\n",
      "The number 10 is even.\n"
     ]
    }
   ],
   "source": [
    "n = 1 # Initialize the value of n at 1\n",
    "while n <= 10: # repeat the following until n is bigger than 10\n",
    "    if n%2 == 1: # Checks to see what the remainder of n/2 is. If it is one then this line returns \"true\" and executes the following line of code\n",
    "        print(f\"The number {n} is odd.\")\n",
    "    else: # If the previous if-statement returned \"false\" then the following line of code is executed\n",
    "        print(f\"The number {n} is even.\")\n",
    "    n = n+1 #increase the value of n by one"
   ]
  },
  {
   "cell_type": "markdown",
   "id": "d298efd8",
   "metadata": {},
   "source": [
    "## Section 4: Submitting your work\n",
    "\n",
    "Start each problem in a new cell. Either create a heading, or a markdown cell before each question. Lab problem sets are due on Friday by 5:00pm. Submit your completed problem sets to onQ using the filename format `surname_####_lab1.ipynb` where `####` is the last 4 digits of your student number and \"surname\" is your family name. For example, I would submit lab 1 as \"Meadows_9662_lab1.ipynb\".\n",
    "\n",
    "Labs will be graded using the rubric provided in the `labs' heading on onQ. As outlined there, your labs will be graded on the answer to three questions: \n",
    "- Does your code run without errors?\n",
    "- How many of the assigned problems did you complete? \n",
    "- How well do you understand the mathematics behind the solutions you've submitted? \n",
    "\n",
    "There will inevitably be some overlap between the answers to these questions, but I've organized the assessment in this to try to separate out where issues are arising. For example, if you are having trouble getting your code to run, you can use a markdown box in your jupyter notebook to explain what you're trying to do. That way your code may not be error free, but you've demonstrated you understand the math.  \n",
    "\n",
    "For each lab, I will supply a mostly blank jupyter notebook you can use as a template."
   ]
  },
  {
   "cell_type": "markdown",
   "id": "ee8b1d97",
   "metadata": {},
   "source": [
    "## Tasks\n",
    "\n",
    "#### Task 1\n",
    "Make a 9x9 diagonal matrix with the numbers from 1 to 9 along the diagonal, assign it to the variable A. \n",
    "Find the inverse of A and demonstrate that $AA^{-1} =I$, where $I$ is the 9x9 identity matrix. Googling \"numpy matrix inverse\" may help. \n",
    "\n",
    "\n",
    "#### Task 2\n",
    "Create a 5x5 matrix using the following procedure:\n",
    "1. Input the value n = 1 in the top middle entry of the matrix\n",
    "2. Input the next larger value of n in the entry one above and one to the right of the previous value of n. Wrap around the matrix if you have to (i.e. up from the top row takes you to the bottom row, and right from the last column takes you to the first column). If the next entry would overwrite an entry you've already input, move one row down from the old entry instead.\n",
    "3. Repeat step 2 until the matrix is full. \n",
    "\n",
    "Call this matrix \"magic\"\n",
    "\n",
    "In case the instructions aren't clear. Here is the procedure applied to a 3x3 matrix:\n",
    "\n",
    "$$\\begin{bmatrix} & 1 & \\\\ & & \\\\ & & \\end{bmatrix} \\to \\begin{bmatrix} & 1& \\\\ & & \\\\ & & 2\\end{bmatrix} \\to \\begin{bmatrix} & 1 & \\\\ 3 & & \\\\ & & 2\\end{bmatrix} \\to \\begin{bmatrix} & 1 & \\\\ 3 & & \\\\ 4 & & 2 \\end{bmatrix} \\to \\begin{bmatrix} & 1 & \\\\ 3 & 5 & \\\\ 4 & & 2\\end{bmatrix} \\to \\begin{bmatrix} & 1 &6 \\\\ 3 & 5 & \\\\ 4 & & 2\\end{bmatrix} \\to \\begin{bmatrix} & 1 &6 \\\\ 3 & 5 &7 \\\\ 4 & & 2\\end{bmatrix}\\to \\begin{bmatrix} 8 & 1 &6 \\\\ 3 & 5 &7 \\\\ 4 &  & 2\\end{bmatrix} \\to \\begin{bmatrix} 8 & 1 &6 \\\\ 3 & 5 &7 \\\\ 4 & 9 & 2\\end{bmatrix}$$\n",
    "\n",
    "#### Task 3\n",
    "For each row, column and the main diagonal of the matrix created in Task 2. Print a statement of the form \"The sum of the nth row/column/main diagonal is x\" where x is the appropriate sum. Explain what you notice in a markdown cell.\n",
    "\n",
    "#### Task 4\n",
    "Choose your favourite positive integer $n_0$. Create an array with only this value in it. Add values according to the following rules: If $n_0$ is even, append $n_1 = n_0/2$ to the array. If $n_0$ is even, append $n_1 = 3n_0 +1$ to the array. Repeat this process for each new integer you add until the same integer is added to the array twice. \n",
    "\n",
    "Example: for $n_0 = 3$, the sequence would be \n",
    "$$[3] \\to [3,10] \\to [3,10,5] \\to [3,10,5,16] \\to [3, 10, 5,16,8] \\to\\\\ [3,10,5,16,8,4] \\to [3,10,5,16,8,4,2] \\to [3,10,5,16,8,4,2,1] \\to [3,10,5,16,8,4,2,1,4]$$\n",
    "\n",
    "The procedure terminates since 4 is in the array twice. Hint: The \"append\" and \"count\" properties of arrays may be helpful\n",
    "\n",
    "#### Task 5\n",
    "\n",
    "In a markdown box, solve the integral $\\int_0^\\infty xe^{-x} dx$. Show at least 2 steps and explain what you are doing.  "
   ]
  },
  {
   "cell_type": "code",
   "execution_count": null,
   "id": "e8577c15",
   "metadata": {},
   "outputs": [],
   "source": []
  },
  {
   "cell_type": "code",
   "execution_count": null,
   "id": "e93e6cfb",
   "metadata": {},
   "outputs": [],
   "source": []
  },
  {
   "cell_type": "code",
   "execution_count": null,
   "id": "d2d2469e",
   "metadata": {},
   "outputs": [],
   "source": []
  },
  {
   "cell_type": "code",
   "execution_count": null,
   "id": "037b0e0f",
   "metadata": {},
   "outputs": [],
   "source": []
  },
  {
   "cell_type": "code",
   "execution_count": null,
   "id": "0c82bc89",
   "metadata": {},
   "outputs": [],
   "source": []
  }
 ],
 "metadata": {
  "kernelspec": {
   "display_name": "Python 3.10.6 64-bit",
   "language": "python",
   "name": "python3"
  },
  "language_info": {
   "codemirror_mode": {
    "name": "ipython",
    "version": 3
   },
   "file_extension": ".py",
   "mimetype": "text/x-python",
   "name": "python",
   "nbconvert_exporter": "python",
   "pygments_lexer": "ipython3",
   "version": "3.10.6"
  },
  "vscode": {
   "interpreter": {
    "hash": "097b9f63d7da6c11b7105d1f20b6727871c6d5f42e3bdf986d628d37c196f20c"
   }
  }
 },
 "nbformat": 4,
 "nbformat_minor": 5
}
