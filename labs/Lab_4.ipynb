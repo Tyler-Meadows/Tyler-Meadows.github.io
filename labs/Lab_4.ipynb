{
 "cells": [
  {
   "cell_type": "markdown",
   "metadata": {},
   "source": [
    "## Exploring the Binomial and Negative-Binomial Distributions\n",
    "#### Lab 4 for MTHE 224, Fall 2023\n",
    "\n",
    "#### The Binomial Distribution\n",
    "\n",
    "As we have seen in class, the binomial distribution describes a random variable that is the result of $n$ independent Bernoulli trials. This means that when we add together the result of several experiments with possible outcomes 0 or 1, and count the number of 1s, the result follows a binomial distribution. Part of this lab will be spent testing the truth behind that statement. We can take samples from the binomial distribution by calling it from the `random` submodule of `numpy` as `binomial`.\n",
    "\n",
    "The probability mass function (pmf) of the binomial distribution is given by\n",
    "$$ P(x;n,p) = \\binom{n}{x}p^x(1-p)^{n-x},$$\n",
    "where $n$ is the total number of trials, $p$ is the probability of success of an individual trial, $N$ is the number of successes, and $\\binom{n}{N}= \\frac{n!}{N!(n-N)!}$ is the binomial coefficient (also called the \"choose function\").\n",
    "\n",
    "#### Python Functions\n",
    "\n",
    "When we have code we want to reuse often, it is helpful to save the code as a function. Functions are created using the sytax \n",
    "```\n",
    "def function_name(arguments):\n",
    "    code to compute value \n",
    "    ...\n",
    "    return value \n",
    "```\n",
    "You can chose almost anything for your function name, however there are some reserved keywords you cannot use, such as `range`. The arguments are a list of things you need to input to compute the desired value. The return value line at the end is important, because it tells your function what to output. Without it, your function will still go through all the computations, but will not tell you what the answer was. You can create any variables you need within the function, but they will only be defined within the scope of the function. This means that python will not recognize that you have defined these variables if you try to use them later. \n",
    "\n",
    "#### Exercises\n",
    "1. Create a function to compute the factorial of a number. Test it by showing that $4! = 24$.  \n",
    "2. Create a function to compute the binomial coefficient. Test it by showing that $\\binom{4}{2} = 6$"
   ]
  },
  {
   "cell_type": "code",
   "execution_count": 55,
   "metadata": {},
   "outputs": [
    {
     "data": {
      "text/plain": [
       "24"
      ]
     },
     "execution_count": 55,
     "metadata": {},
     "output_type": "execute_result"
    }
   ],
   "source": [
    "def factorial(n):\n",
    "    if n == 0: # Test if n = 0\n",
    "        return 1 # if n = 0, then return 0! = 1\n",
    "    else:   # If n =/= 0, then do this instead:\n",
    "        fact = n # Define the initial value for the factorial\n",
    "        for i in range(1,n): #range up to n does not include n\n",
    "            fact = fact * i #multiply fact by all the values from 1 to n\n",
    "        return fact # return the value fact \n",
    "\n",
    "factorial(4) # Should be 24"
   ]
  },
  {
   "cell_type": "code",
   "execution_count": 53,
   "metadata": {},
   "outputs": [
    {
     "data": {
      "text/plain": [
       "6"
      ]
     },
     "execution_count": 53,
     "metadata": {},
     "output_type": "execute_result"
    }
   ],
   "source": [
    "def binomial_coefficient(n,k):\n",
    "    if (k>n)|(k<0): # The bar between the two conditions means \"or\" \n",
    "        return 0 # If k is negative or larger than n, return 0\n",
    "    else: #if k is not negative, then do these things. \n",
    "        return factorial(n)//(factorial(n-k)*factorial(k)) # Definition of choose function\n",
    "\n",
    "binomial_coefficient(4,2) # Should be 6"
   ]
  },
  {
   "cell_type": "markdown",
   "metadata": {},
   "source": [
    "#### Exercises\n",
    "\n",
    "1. Generate a vector of 1000 samples from a binomial distribution with $p = 0.2$ and $n = 12$. \n",
    "2. Plot a histogram of the frequency of each outcome."
   ]
  },
  {
   "cell_type": "code",
   "execution_count": 37,
   "metadata": {},
   "outputs": [
    {
     "data": {
      "text/plain": [
       "(array([0.22688172, 0.29892473, 0.22903226, 0.16451613, 0.05913978,\n",
       "        0.01612903, 0.00537634, 0.        , 0.        , 0.        ,\n",
       "        0.        ]),\n",
       " array([ 1,  2,  3,  4,  5,  6,  7,  8,  9, 10, 11, 12]),\n",
       " <BarContainer object of 11 artists>)"
      ]
     },
     "execution_count": 37,
     "metadata": {},
     "output_type": "execute_result"
    },
    {
     "data": {
      "image/png": "[encoded data removed]",
      "text/plain": [
       "<Figure size 640x480 with 1 Axes>"
      ]
     },
     "metadata": {},
     "output_type": "display_data"
    }
   ],
   "source": [
    "from matplotlib import pyplot as plt\n",
    "import numpy as np \n",
    "\n",
    "samples = np.random.binomial(12,0.2,1000)\n",
    "plt.hist(samples,bins = range(1,13),align=\"left\",density =\"frequency\",)"
   ]
  },
  {
   "cell_type": "markdown",
   "metadata": {},
   "source": [
    "\n",
    "#### The Negative Binomial Distribution\n",
    "\n",
    "The negative-binomial distribution is a lot like the binomial distribution. To derive a binomial distribution from trials, we fixed a number $n$ beforehand and conducted that many experiments. To derive a negative-binomial distribution, we pick a number $r$ beforehand, and conduct experiments until we encounter $r$ successes. We can take samples from the negative-binomial distribution by calling it from the `random` submodule of `numpy` as `negative_binomial`. \n",
    "\n",
    "The probability mass function for the negative-binomial distribution is \n",
    "$$ P(x) = \\binom{x+r-1}{r-1}(1-p)^xp^r$$\n",
    "where $r$ is the number of successes before quitting, $p$ is the probability of success of an individual trial, $x$ is the number of failures encountered before quitting, and $\\binom{n}{x}= \\frac{n!}{x!(n-x)!}$ is the binomial coefficient. Note that some references will define the negative-binomial distribution by conducting experiments until a set amount of failures are reached. \n",
    "\n",
    "#### Exercises\n",
    "1. Plot the pmf of the negative-binomial distribution with $r=3$ and $p=0.6$ for $x$ from $0$ to $16$\n",
    "2. Generate a vector of 10,000 samples from a negative-binomial distribution with $r=3$ and $p = 0.6$\n",
    "3. Plot a histogram of the frequency of each outcome"
   ]
  },
  {
   "cell_type": "code",
   "execution_count": 47,
   "metadata": {},
   "outputs": [
    {
     "data": {
      "text/plain": [
       "(array([2.203e-01, 2.506e-01, 2.099e-01, 1.449e-01, 8.130e-02, 4.570e-02,\n",
       "        2.410e-02, 1.120e-02, 6.100e-03, 2.800e-03, 2.100e-03, 7.000e-04,\n",
       "        2.000e-04, 1.000e-04, 0.000e+00, 0.000e+00]),\n",
       " array([ 0,  1,  2,  3,  4,  5,  6,  7,  8,  9, 10, 11, 12, 13, 14, 15, 16]),\n",
       " <BarContainer object of 16 artists>)"
      ]
     },
     "execution_count": 47,
     "metadata": {},
     "output_type": "execute_result"
    },
    {
     "data": {
      "image/png": "[encoded data removed]",
      "text/plain": [
       "<Figure size 640x480 with 1 Axes>"
      ]
     },
     "metadata": {},
     "output_type": "display_data"
    }
   ],
   "source": [
    "def neg_binom_pmf(x,r,p): # function to calculate the negative binomial pmf\n",
    "    return binomial_coefficient(x+r-1,r-1)*(1-p)**x*p**r\n",
    "\n",
    "x_vals = range(16) # x values to plot\n",
    "y = [neg_binom_pmf(j,3,0.6) for j in x_vals] #creates an array of y-values using the binomial pmf and x-values\n",
    "plt.bar(x_vals,y,color=\"red\") #use a bar-chart for the pmf \n",
    "\n",
    "samples_negative_binomial = np.random.negative_binomial(3,0.6,10000)\n",
    "## Plot the samples as a histogram.\n",
    "#  The alpha option makes the bars a litle bit transparent. \n",
    "#  The density option scales histogram so that the box heights sum to 1\n",
    "#  The align option centers the bars over the number values\n",
    "plt.hist(samples_negative_binomial,bins=range(0,17),density=\"frequency\",align=\"left\", alpha = 0.8)"
   ]
  },
  {
   "cell_type": "markdown",
   "metadata": {},
   "source": [
    "## Tasks\n",
    "\n",
    "For some of the following tasks, you may want to copy the factorial and binomial_coefficient functions from the lab description\n",
    "\n",
    "<b>Task 1</b><br>\n",
    "Create a function to generate a Bernoulli random variable with probability $p$. \n",
    "Test you function by running 20 Bernoulli trials with probability of success $p= 0.2$. \n",
    "\n",
    "<b> Task 2 </b><br>\n",
    "Create a function that calculates the sum of 20 Bernoulli trials with $p = 0.2$. Run this function 10,000 times and save the results as a vector called <code>maybe_binomial</code>.\n",
    "\n",
    "<b> Task 3 </b><br>\n",
    "Plot a histogram of the frequency of outcomes in <code>maybe_binomial</code>. On the same axes, plot the pmf for the binomial distribution with $n=20$ and $p = 0.2$. \n",
    "\n",
    "<b> Task 4 </b><br>\n",
    "Create a function that runs Bernoulli trials with $p=0.6$ until 5 successes are reached, and returns the total number of failures that occured. Run this function 10,000 times and save the results in a vector called <code> maybe_negative_binomial</code><br>\n",
    "\n",
    "<b> Task 5 </b>\n",
    "Plot a histogram of the frequency of each outcome in <code>maybe_negative_binomial</code>. On the same axes, make a bar chart for the pmf for the negative binomial distribution with $r=5$ and $p=0.6$ for $x$ between 0 and 45.<br>"
   ]
  },
  {
   "cell_type": "code",
   "execution_count": null,
   "metadata": {},
   "outputs": [],
   "source": []
  },
  {
   "cell_type": "markdown",
   "metadata": {},
   "source": []
  },
  {
   "cell_type": "code",
   "execution_count": 53,
   "metadata": {},
   "outputs": [
    {
     "data": {
      "text/plain": [
       "0"
      ]
     },
     "execution_count": 53,
     "metadata": {},
     "output_type": "execute_result"
    }
   ],
   "source": []
  },
  {
   "cell_type": "code",
   "execution_count": null,
   "metadata": {},
   "outputs": [],
   "source": []
  }
 ],
 "metadata": {
  "kernelspec": {
   "display_name": "Python 3.10.6 64-bit",
   "language": "python",
   "name": "python3"
  },
  "language_info": {
   "codemirror_mode": {
    "name": "ipython",
    "version": 3
   },
   "file_extension": ".py",
   "mimetype": "text/x-python",
   "name": "python",
   "nbconvert_exporter": "python",
   "pygments_lexer": "ipython3",
   "version": "3.10.6"
  },
  "orig_nbformat": 4,
  "vscode": {
   "interpreter": {
    "hash": "097b9f63d7da6c11b7105d1f20b6727871c6d5f42e3bdf986d628d37c196f20c"
   }
  }
 },
 "nbformat": 4,
 "nbformat_minor": 2
}
