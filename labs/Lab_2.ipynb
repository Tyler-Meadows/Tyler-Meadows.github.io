{
 "cells": [
  {
   "cell_type": "markdown",
   "metadata": {},
   "source": [
    "## Lab 2: Dealing with real Data\n",
    "\n",
    "As mentioned in the first class this semester, one important branch of statistics, called descriptive statistics, is concerned with how we visualize and interpret data. In today's class we will be focused on some aspects of descriptive statistics using real data. \n"
   ]
  },
  {
   "cell_type": "markdown",
   "metadata": {},
   "source": [
    "#### Importing data using the pandas module\n",
    "The python module that is most commonly used for dealing with data is called \"pandas\". In order to use this module, you must first install it by running `pip install pandas`. "
   ]
  },
  {
   "cell_type": "code",
   "execution_count": null,
   "metadata": {},
   "outputs": [],
   "source": [
    "pip install pandas"
   ]
  },
  {
   "cell_type": "markdown",
   "metadata": {},
   "source": [
    "Data is often stored in either excel files, or as comma separated value files (file extension `.csv`). Included as part of this lab is the example file `NHLHistory.csv`. You can import this file using the function `pandas.read_csv(\"filename\")`, where `filename` replaced by `NHLHistory.csv`. The output is a table (called a \"data frame\") with a bunch of data about the 100 NHL players who have scored the most points. Each row of the data frame corresponds to a single player, with information about their goals, assists, points, etc.  "
   ]
  },
  {
   "cell_type": "code",
   "execution_count": 2,
   "metadata": {},
   "outputs": [
    {
     "data": {
      "text/html": [
       "<div>\n",
       "<style scoped>\n",
       "    .dataframe tbody tr th:only-of-type {\n",
       "        vertical-align: middle;\n",
       "    }\n",
       "\n",
       "    .dataframe tbody tr th {\n",
       "        vertical-align: top;\n",
       "    }\n",
       "\n",
       "    .dataframe thead th {\n",
       "        text-align: right;\n",
       "    }\n",
       "</style>\n",
       "<table border=\"1\" class=\"dataframe\">\n",
       "  <thead>\n",
       "    <tr style=\"text-align: right;\">\n",
       "      <th></th>\n",
       "      <th>Player</th>\n",
       "      <th>S/C</th>\n",
       "      <th>Pos</th>\n",
       "      <th>GP</th>\n",
       "      <th>G</th>\n",
       "      <th>A</th>\n",
       "      <th>P</th>\n",
       "      <th>+/-</th>\n",
       "      <th>PIM</th>\n",
       "      <th>P/GP</th>\n",
       "      <th>...</th>\n",
       "      <th>PPG</th>\n",
       "      <th>PPP</th>\n",
       "      <th>SHG</th>\n",
       "      <th>SHP</th>\n",
       "      <th>OTG</th>\n",
       "      <th>GWG</th>\n",
       "      <th>S</th>\n",
       "      <th>S%</th>\n",
       "      <th>TOI/GP</th>\n",
       "      <th>FOW%</th>\n",
       "    </tr>\n",
       "  </thead>\n",
       "  <tbody>\n",
       "    <tr>\n",
       "      <th>0</th>\n",
       "      <td>Wayne Gretzky</td>\n",
       "      <td>L</td>\n",
       "      <td>C</td>\n",
       "      <td>1487</td>\n",
       "      <td>894</td>\n",
       "      <td>1963</td>\n",
       "      <td>2857</td>\n",
       "      <td>520</td>\n",
       "      <td>577</td>\n",
       "      <td>1.92</td>\n",
       "      <td>...</td>\n",
       "      <td>204</td>\n",
       "      <td>890</td>\n",
       "      <td>73</td>\n",
       "      <td>149</td>\n",
       "      <td>2</td>\n",
       "      <td>91</td>\n",
       "      <td>5088</td>\n",
       "      <td>18</td>\n",
       "      <td>--</td>\n",
       "      <td>49</td>\n",
       "    </tr>\n",
       "    <tr>\n",
       "      <th>1</th>\n",
       "      <td>Jaromir Jagr</td>\n",
       "      <td>L</td>\n",
       "      <td>R</td>\n",
       "      <td>1733</td>\n",
       "      <td>766</td>\n",
       "      <td>1155</td>\n",
       "      <td>1921</td>\n",
       "      <td>322</td>\n",
       "      <td>1167</td>\n",
       "      <td>1.11</td>\n",
       "      <td>...</td>\n",
       "      <td>217</td>\n",
       "      <td>610</td>\n",
       "      <td>11</td>\n",
       "      <td>15</td>\n",
       "      <td>19</td>\n",
       "      <td>135</td>\n",
       "      <td>5637</td>\n",
       "      <td>14</td>\n",
       "      <td>--</td>\n",
       "      <td>25</td>\n",
       "    </tr>\n",
       "    <tr>\n",
       "      <th>2</th>\n",
       "      <td>Mark Messier</td>\n",
       "      <td>L</td>\n",
       "      <td>C</td>\n",
       "      <td>1756</td>\n",
       "      <td>694</td>\n",
       "      <td>1193</td>\n",
       "      <td>1887</td>\n",
       "      <td>211</td>\n",
       "      <td>1912</td>\n",
       "      <td>1.07</td>\n",
       "      <td>...</td>\n",
       "      <td>179</td>\n",
       "      <td>581</td>\n",
       "      <td>63</td>\n",
       "      <td>144</td>\n",
       "      <td>8</td>\n",
       "      <td>92</td>\n",
       "      <td>4221</td>\n",
       "      <td>16</td>\n",
       "      <td>--</td>\n",
       "      <td>55</td>\n",
       "    </tr>\n",
       "    <tr>\n",
       "      <th>3</th>\n",
       "      <td>Gordie Howe</td>\n",
       "      <td>R</td>\n",
       "      <td>R</td>\n",
       "      <td>1767</td>\n",
       "      <td>801</td>\n",
       "      <td>1049</td>\n",
       "      <td>1850</td>\n",
       "      <td>160</td>\n",
       "      <td>1685</td>\n",
       "      <td>1.05</td>\n",
       "      <td>...</td>\n",
       "      <td>211</td>\n",
       "      <td>564</td>\n",
       "      <td>24</td>\n",
       "      <td>36</td>\n",
       "      <td>0</td>\n",
       "      <td>121</td>\n",
       "      <td>3803</td>\n",
       "      <td>--</td>\n",
       "      <td>--</td>\n",
       "      <td>--</td>\n",
       "    </tr>\n",
       "    <tr>\n",
       "      <th>4</th>\n",
       "      <td>Ron Francis</td>\n",
       "      <td>L</td>\n",
       "      <td>C</td>\n",
       "      <td>1731</td>\n",
       "      <td>549</td>\n",
       "      <td>1249</td>\n",
       "      <td>1798</td>\n",
       "      <td>-18</td>\n",
       "      <td>977</td>\n",
       "      <td>1.04</td>\n",
       "      <td>...</td>\n",
       "      <td>188</td>\n",
       "      <td>727</td>\n",
       "      <td>12</td>\n",
       "      <td>31</td>\n",
       "      <td>4</td>\n",
       "      <td>79</td>\n",
       "      <td>3756</td>\n",
       "      <td>15</td>\n",
       "      <td>--</td>\n",
       "      <td>55</td>\n",
       "    </tr>\n",
       "    <tr>\n",
       "      <th>...</th>\n",
       "      <td>...</td>\n",
       "      <td>...</td>\n",
       "      <td>...</td>\n",
       "      <td>...</td>\n",
       "      <td>...</td>\n",
       "      <td>...</td>\n",
       "      <td>...</td>\n",
       "      <td>...</td>\n",
       "      <td>...</td>\n",
       "      <td>...</td>\n",
       "      <td>...</td>\n",
       "      <td>...</td>\n",
       "      <td>...</td>\n",
       "      <td>...</td>\n",
       "      <td>...</td>\n",
       "      <td>...</td>\n",
       "      <td>...</td>\n",
       "      <td>...</td>\n",
       "      <td>...</td>\n",
       "      <td>...</td>\n",
       "      <td>...</td>\n",
       "    </tr>\n",
       "    <tr>\n",
       "      <th>95</th>\n",
       "      <td>Claude Giroux</td>\n",
       "      <td>R</td>\n",
       "      <td>R</td>\n",
       "      <td>1100</td>\n",
       "      <td>329</td>\n",
       "      <td>673</td>\n",
       "      <td>1002</td>\n",
       "      <td>38</td>\n",
       "      <td>452</td>\n",
       "      <td>0.91</td>\n",
       "      <td>...</td>\n",
       "      <td>93</td>\n",
       "      <td>374</td>\n",
       "      <td>7</td>\n",
       "      <td>17</td>\n",
       "      <td>12</td>\n",
       "      <td>52</td>\n",
       "      <td>2862</td>\n",
       "      <td>12</td>\n",
       "      <td>1</td>\n",
       "      <td>56</td>\n",
       "    </tr>\n",
       "    <tr>\n",
       "      <th>96</th>\n",
       "      <td>Joe Pavelski</td>\n",
       "      <td>R</td>\n",
       "      <td>C</td>\n",
       "      <td>1250</td>\n",
       "      <td>449</td>\n",
       "      <td>552</td>\n",
       "      <td>1001</td>\n",
       "      <td>189</td>\n",
       "      <td>438</td>\n",
       "      <td>0.80</td>\n",
       "      <td>...</td>\n",
       "      <td>165</td>\n",
       "      <td>362</td>\n",
       "      <td>10</td>\n",
       "      <td>18</td>\n",
       "      <td>4</td>\n",
       "      <td>71</td>\n",
       "      <td>3512</td>\n",
       "      <td>13</td>\n",
       "      <td>1</td>\n",
       "      <td>55</td>\n",
       "    </tr>\n",
       "    <tr>\n",
       "      <th>97</th>\n",
       "      <td>Jason Spezza</td>\n",
       "      <td>R</td>\n",
       "      <td>C</td>\n",
       "      <td>1248</td>\n",
       "      <td>363</td>\n",
       "      <td>632</td>\n",
       "      <td>995</td>\n",
       "      <td>5</td>\n",
       "      <td>604</td>\n",
       "      <td>0.80</td>\n",
       "      <td>...</td>\n",
       "      <td>117</td>\n",
       "      <td>366</td>\n",
       "      <td>3</td>\n",
       "      <td>5</td>\n",
       "      <td>3</td>\n",
       "      <td>55</td>\n",
       "      <td>2866</td>\n",
       "      <td>13</td>\n",
       "      <td>1</td>\n",
       "      <td>53</td>\n",
       "    </tr>\n",
       "    <tr>\n",
       "      <th>98</th>\n",
       "      <td>Phil Kessel</td>\n",
       "      <td>R</td>\n",
       "      <td>R</td>\n",
       "      <td>1286</td>\n",
       "      <td>413</td>\n",
       "      <td>579</td>\n",
       "      <td>992</td>\n",
       "      <td>-155</td>\n",
       "      <td>402</td>\n",
       "      <td>0.77</td>\n",
       "      <td>...</td>\n",
       "      <td>119</td>\n",
       "      <td>333</td>\n",
       "      <td>1</td>\n",
       "      <td>1</td>\n",
       "      <td>11</td>\n",
       "      <td>70</td>\n",
       "      <td>3849</td>\n",
       "      <td>11</td>\n",
       "      <td>1</td>\n",
       "      <td>42</td>\n",
       "    </tr>\n",
       "    <tr>\n",
       "      <th>99</th>\n",
       "      <td>Paul Kariya</td>\n",
       "      <td>L</td>\n",
       "      <td>L</td>\n",
       "      <td>989</td>\n",
       "      <td>402</td>\n",
       "      <td>587</td>\n",
       "      <td>989</td>\n",
       "      <td>31</td>\n",
       "      <td>399</td>\n",
       "      <td>1.00</td>\n",
       "      <td>...</td>\n",
       "      <td>139</td>\n",
       "      <td>390</td>\n",
       "      <td>17</td>\n",
       "      <td>23</td>\n",
       "      <td>4</td>\n",
       "      <td>53</td>\n",
       "      <td>3509</td>\n",
       "      <td>12</td>\n",
       "      <td>--</td>\n",
       "      <td>41</td>\n",
       "    </tr>\n",
       "  </tbody>\n",
       "</table>\n",
       "<p>100 rows × 22 columns</p>\n",
       "</div>"
      ],
      "text/plain": [
       "           Player S/C Pos    GP    G     A     P  +/-   PIM  P/GP  ...  PPG  \\\n",
       "0   Wayne Gretzky   L   C  1487  894  1963  2857  520   577  1.92  ...  204   \n",
       "1    Jaromir Jagr   L   R  1733  766  1155  1921  322  1167  1.11  ...  217   \n",
       "2    Mark Messier   L   C  1756  694  1193  1887  211  1912  1.07  ...  179   \n",
       "3     Gordie Howe   R   R  1767  801  1049  1850  160  1685  1.05  ...  211   \n",
       "4     Ron Francis   L   C  1731  549  1249  1798  -18   977  1.04  ...  188   \n",
       "..            ...  ..  ..   ...  ...   ...   ...  ...   ...   ...  ...  ...   \n",
       "95  Claude Giroux   R   R  1100  329   673  1002   38   452  0.91  ...   93   \n",
       "96   Joe Pavelski   R   C  1250  449   552  1001  189   438  0.80  ...  165   \n",
       "97   Jason Spezza   R   C  1248  363   632   995    5   604  0.80  ...  117   \n",
       "98    Phil Kessel   R   R  1286  413   579   992 -155   402  0.77  ...  119   \n",
       "99    Paul Kariya   L   L   989  402   587   989   31   399  1.00  ...  139   \n",
       "\n",
       "    PPP  SHG  SHP  OTG  GWG     S  S%  TOI/GP FOW%  \n",
       "0   890   73  149    2   91  5088  18      --   49  \n",
       "1   610   11   15   19  135  5637  14      --   25  \n",
       "2   581   63  144    8   92  4221  16      --   55  \n",
       "3   564   24   36    0  121  3803  --      --   --  \n",
       "4   727   12   31    4   79  3756  15      --   55  \n",
       "..  ...  ...  ...  ...  ...   ...  ..     ...  ...  \n",
       "95  374    7   17   12   52  2862  12       1   56  \n",
       "96  362   10   18    4   71  3512  13       1   55  \n",
       "97  366    3    5    3   55  2866  13       1   53  \n",
       "98  333    1    1   11   70  3849  11       1   42  \n",
       "99  390   17   23    4   53  3509  12      --   41  \n",
       "\n",
       "[100 rows x 22 columns]"
      ]
     },
     "execution_count": 2,
     "metadata": {},
     "output_type": "execute_result"
    }
   ],
   "source": [
    "import pandas as pd\n",
    "pd.read_csv(\"NHLHistory.csv\")"
   ]
  },
  {
   "cell_type": "markdown",
   "metadata": {},
   "source": [
    "Once a dataframe is imported, it can be assigned to a variable for later use. Dataframes act a lot like arrays, in that if we want a specific entry, we can refer to it using the index of the entry. However, there are major advantages to dataframes. Each column in the dataframe has a name, and if we want only the values in that column (for example the lead concentrations in the \"VALUE\" column), we can access that column using dot syntax. I.e. if the dataframe is assigned to the variable `NHL`, then I can access the \"Goals\" column by writing `NHL.G` or `NHL[\"G\"]`."
   ]
  },
  {
   "cell_type": "code",
   "execution_count": 3,
   "metadata": {},
   "outputs": [
    {
     "data": {
      "text/plain": [
       "0     894\n",
       "1     766\n",
       "2     694\n",
       "3     801\n",
       "4     549\n",
       "     ... \n",
       "95    329\n",
       "96    449\n",
       "97    363\n",
       "98    413\n",
       "99    402\n",
       "Name: G, Length: 100, dtype: int64"
      ]
     },
     "execution_count": 3,
     "metadata": {},
     "output_type": "execute_result"
    }
   ],
   "source": [
    "NHL = pd.read_csv(\"NHLHistory.csv\")\n",
    "NHL.G # NHL[\"G\"] also works. If the column name is more than one letter, you will have to use this option"
   ]
  },
  {
   "cell_type": "markdown",
   "metadata": {},
   "source": [
    "#### Visualizing Data using histograms\n",
    "\n",
    "In order to plot anything, we will have to add the `matplotlib` python module (run `pip install matplotlib` in a python block). This is a module for making graphs and plots, based around matlab's plotting features. We actually want to use the `pyplot` submodule from `matplotlib`, which we will import as `plt`.\n",
    "\n",
    "A histogram (or bar chart) is a method of summarizing data by adding each data point to a \"bin\". Each bin is plotted as a rectangle with width covering the range of data included in the bin, and height equal to the number of points that fall into that bin. We can plot a histogram using the command `plt.hist(array)` where `array` should be replaced by whatever data set you are using. In this case we will use `NHL.P` which is the points column in the NHL data set. \n",
    "\n",
    "By default, the data will be split up into 10 bins of equal width. We can override this behaviour by passing an additional argument to the `plt.hist()` function to specify the number of bins, or a range for where the bins should start and end. Try using the option `bins = range(950,3000,50)` and `bins = 30` to see how the histogram changes.\n",
    "\n",
    "There are also other options we can pass to the plot in order to customize how it looks. For example, we can outline the rectangles in the histogram by adding `edgecolor = 'black'`\n",
    "\n"
   ]
  },
  {
   "cell_type": "code",
   "execution_count": 30,
   "metadata": {},
   "outputs": [
    {
     "data": {
      "text/plain": [
       "(array([46., 27., 16.,  4.,  6.,  0.,  0.,  0.,  0.,  1.]),\n",
       " array([ 989. , 1175.8, 1362.6, 1549.4, 1736.2, 1923. , 2109.8, 2296.6,\n",
       "        2483.4, 2670.2, 2857. ]),\n",
       " <BarContainer object of 10 artists>)"
      ]
     },
     "execution_count": 30,
     "metadata": {},
     "output_type": "execute_result"
    },
    {
     "data": {
      "image/png": "[encoded data removed]",
      "text/plain": [
       "<Figure size 640x480 with 1 Axes>"
      ]
     },
     "metadata": {},
     "output_type": "display_data"
    }
   ],
   "source": [
    "from matplotlib import pyplot as plt\n",
    "plt.hist(NHL.P, bins = 10, edgecolor='black') # Histogram for nhl points. \n"
   ]
  },
  {
   "cell_type": "markdown",
   "metadata": {},
   "source": [
    "#### Visualizing Data using Box Plots\n",
    "\n",
    "Box plots (or box and whisker plots) are a common way to visualize data. They are constructed in a way to give important information about the center of the data, and the spread of the data. In order to understand the quantities that go into creating a box plot, we must first introduce the idea of <i>quartiles </i>."
   ]
  },
  {
   "cell_type": "markdown",
   "metadata": {},
   "source": [
    "##### Quartiles\n",
    "\n",
    "Every data set with four or more data points will have three quartiles. These quartiles are values that&mdash;when the data is sorted in ascending order&mdash;will partition the data into four equally sized sets. For example, consider the data set\n",
    "$$ \\{1,2,2,3,4,5,5,6,7,8,9,9, 10, 14,15,15\\},$$\n",
    "which contains 16 data points. the quartiles are three values that split this set into four equal sets of four. The first quartile is $q_1=3.5$ the second quartile is $q_2 = 6.5$, and the third quartile is $q_3 = 9.5$. The resulting partition is the four sets \n",
    "$$ \\{1,2,2,3\\}, \\quad \\{4,5,5,6\\},\\quad \\{7,8,9,9\\},~\\text{and}~\\{10,14,15,15\\}.$$\n",
    "All of the values in the first set are less than $q_1$, all of the values in the second set are greater than $q_1$ but less than $q_2$, all of the values in the third set are greater than $q_2$ but less than $q_3$, and all of the values in the final set are greater than $q_3$.\n",
    "\n",
    "The second quartile is special, since it partitions the data set into two equally sized pieces. We also refer to the second quartile as <i>the median.</i>  \n",
    "\n",
    "An important measure of the spread of a data set is the <i> interquartile range</i>, which is the difference between the third quartile and the second quartile, $\\Delta_q = q_3-q_1$. The interquartile range is the center range in which half of the data points lie. \n",
    "\n",
    "##### Outliers \n",
    "\n",
    "One way to determine if a data point is an outlier is to compare where it lies relative to the 1st or 3rd quartiles. A data point $x$ is a low outlier if $x< q_1 - 1.5\\Delta_q$. A data point $x$ is a high outlier if $x > q_3 + 1.5\\Delta_q$. This means that if the data point is more than 1.5 interquartile ranges away from the middle half of the data, it can be considered an outlier. If it is more than 4 interquartile ranges away from the middle half of the data, it would be considered an extreme outlier. \n",
    "\n",
    "#### To create a box plot\n",
    "\n",
    "1. A horizontal line segment is drawn indicating median of the data, $q_2$.\n",
    "2. A box is drawn from the first quartile $q_1$ to the third quartile $q_3$. \n",
    "3. A small horizontal line segment is drawn for the smallest data point that is not an outlier, and another for the largest data point that is not an outlier. \n",
    "4. vertical lines are drawn from  the center of these horizontal lines to the nearest quartile. \n",
    "5. Outliers are indicated using circles. \n",
    "\n",
    "To create a boxplot using pyplot, simply use the function `plt.boxplot(data)`\n",
    "\n",
    "#### Exercises \n",
    "1. Use the `NHL` dataframe to make a new dataframe that only contains the values for players who played center. Call it `Centers`\n",
    "2. Create a boxplot using the `G` column of `Centers`.\n",
    "3. Determine the quartiles of the goals for left handed players, and compare these with the box plot you have created.\n",
    "4. Create a similar boxplot for each position."
   ]
  },
  {
   "cell_type": "code",
   "execution_count": 27,
   "metadata": {},
   "outputs": [
    {
     "data": {
      "text/plain": [
       "{'whiskers': [<matplotlib.lines.Line2D at 0x279ca797670>,\n",
       "  <matplotlib.lines.Line2D at 0x279ca797940>],\n",
       " 'caps': [<matplotlib.lines.Line2D at 0x279ca797c10>,\n",
       "  <matplotlib.lines.Line2D at 0x279ca797ee0>],\n",
       " 'boxes': [<matplotlib.lines.Line2D at 0x279ca7973a0>],\n",
       " 'medians': [<matplotlib.lines.Line2D at 0x279ca7c41f0>],\n",
       " 'fliers': [<matplotlib.lines.Line2D at 0x279ca7c44c0>],\n",
       " 'means': []}"
      ]
     },
     "execution_count": 27,
     "metadata": {},
     "output_type": "execute_result"
    },
    {
     "data": {
      "image/png": "[encoded data removed]",
      "text/plain": [
       "<Figure size 640x480 with 1 Axes>"
      ]
     },
     "metadata": {},
     "output_type": "display_data"
    }
   ],
   "source": [
    "from matplotlib import pyplot as plt\n",
    "Centers = NHL.query('Pos == \"C\"')\n",
    "plt.boxplot(Centers.G)"
   ]
  },
  {
   "cell_type": "markdown",
   "metadata": {},
   "source": [
    "From the plot, the first quartile appears to be about 410, the second quartile appears to be about 475 and the third quartile appears to be about 550. There is one outlier: Wayne Gretzky at 894. \n",
    "\n",
    " We can find out exactly what the quartiles are using the `statistics` module and the `quantiles` function. (you will have to run `pip install statistics` to use this)"
   ]
  },
  {
   "cell_type": "code",
   "execution_count": 28,
   "metadata": {},
   "outputs": [
    {
     "name": "stdout",
     "output_type": "stream",
     "text": [
      "The first quartile is 408.0, the median is 475.0, and the third quartile is 549.0\n"
     ]
    }
   ],
   "source": [
    "## To determine quartiles, import the statistics module\n",
    "import statistics\n",
    "q = statistics.quantiles(Centers.G)\n",
    "print(f\"The first quartile is {q[0]}, the median is {q[1]}, and the third quartile is {q[2]}\")"
   ]
  },
  {
   "cell_type": "code",
   "execution_count": 29,
   "metadata": {},
   "outputs": [
    {
     "data": {
      "text/plain": [
       "<AxesSubplot:title={'center':'G'}, xlabel='Pos'>"
      ]
     },
     "execution_count": 29,
     "metadata": {},
     "output_type": "execute_result"
    },
    {
     "data": {
      "image/png": "[encoded data removed]",
      "text/plain": [
       "<Figure size 640x480 with 1 Axes>"
      ]
     },
     "metadata": {},
     "output_type": "display_data"
    }
   ],
   "source": [
    "## Note that if we want to plot boxplots for every possibility in the \"S/C\" Column we can use \n",
    "NHL.boxplot(column = \"G\", by= \"Pos\")"
   ]
  },
  {
   "cell_type": "markdown",
   "metadata": {},
   "source": [
    "This gives four boxplots on the same axes. One for the centers, one for defense, one for left wingers, and one for right wingers."
   ]
  },
  {
   "cell_type": "markdown",
   "metadata": {},
   "source": [
    "### Tasks\n",
    "\n",
    "<b>Task 1:</b><br>\n",
    "Import the data set from <code>spotify.csv</code> as a pandas dataframe. In a markdown box, describe what information is available in the data frame."
   ]
  },
  {
   "cell_type": "code",
   "execution_count": null,
   "metadata": {},
   "outputs": [],
   "source": []
  },
  {
   "cell_type": "markdown",
   "metadata": {},
   "source": []
  },
  {
   "cell_type": "markdown",
   "metadata": {},
   "source": [
    "<b> Task 2:</b><br>\n",
    "Create a histogram for the genres in the dataframe. In a markdown box, describe which genres are most represented. "
   ]
  },
  {
   "cell_type": "code",
   "execution_count": null,
   "metadata": {},
   "outputs": [],
   "source": []
  },
  {
   "cell_type": "markdown",
   "metadata": {},
   "source": []
  },
  {
   "cell_type": "markdown",
   "metadata": {},
   "source": [
    "<b>Task 3:</b> <br>\n",
    "For each year create a box plot for the song durations. In a markdown box, describe what a typical song length is in minutes and seconds for each year, and any trends you notice."
   ]
  },
  {
   "cell_type": "code",
   "execution_count": null,
   "metadata": {},
   "outputs": [],
   "source": []
  },
  {
   "cell_type": "markdown",
   "metadata": {},
   "source": []
  },
  {
   "cell_type": "markdown",
   "metadata": {},
   "source": [
    "<b>Task 4:</b><br>\n",
    "For the year 2000, determine which songs were outliers in terms of song length, and the lengths of those songs."
   ]
  },
  {
   "cell_type": "code",
   "execution_count": null,
   "metadata": {},
   "outputs": [],
   "source": []
  },
  {
   "cell_type": "markdown",
   "metadata": {},
   "source": [
    "<b>Task 5</b><br>\n",
    "Create a new data for only pop songs. Use this new data frame to create a histogram for the year of each song, starting in the year 1995.  What trends do you notice? Customize your histogram in some way."
   ]
  },
  {
   "cell_type": "markdown",
   "metadata": {},
   "source": []
  },
  {
   "cell_type": "code",
   "execution_count": null,
   "metadata": {},
   "outputs": [],
   "source": []
  },
  {
   "cell_type": "markdown",
   "metadata": {},
   "source": []
  }
 ],
 "metadata": {
  "kernelspec": {
   "display_name": "Python 3.10.6 64-bit",
   "language": "python",
   "name": "python3"
  },
  "language_info": {
   "codemirror_mode": {
    "name": "ipython",
    "version": 3
   },
   "file_extension": ".py",
   "mimetype": "text/x-python",
   "name": "python",
   "nbconvert_exporter": "python",
   "pygments_lexer": "ipython3",
   "version": "3.10.6"
  },
  "orig_nbformat": 4,
  "vscode": {
   "interpreter": {
    "hash": "097b9f63d7da6c11b7105d1f20b6727871c6d5f42e3bdf986d628d37c196f20c"
   }
  }
 },
 "nbformat": 4,
 "nbformat_minor": 2
}
