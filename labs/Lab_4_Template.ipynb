{
 "cells": [
  {
   "cell_type": "markdown",
   "metadata": {},
   "source": [
    "# Lab 4\n",
    "### My Name is ????\n",
    "### In Collaboration with ??? and ????"
   ]
  },
  {
   "cell_type": "markdown",
   "metadata": {},
   "source": [
    "## Tasks\n",
    "\n",
    "For some of the following tasks, you may want to copy the factorial and binomial_coefficient functions from the lab description\n",
    "\n",
    "<b>Task 1</b><br>\n",
    "Create a function to generate a Bernoulli random variable with probability $p$. \n",
    "Test you function by running 20 Bernoulli trials with probability of success $p= 0.2$. "
   ]
  },
  {
   "cell_type": "code",
   "execution_count": null,
   "metadata": {
    "vscode": {
     "languageId": "plaintext"
    }
   },
   "outputs": [],
   "source": []
  },
  {
   "cell_type": "markdown",
   "metadata": {},
   "source": [
    "\n",
    "<b> Task 2 </b><br>\n",
    "Create a function that calculates the sum of 20 Bernoulli trials with $p = 0.2$. Run this function 10,000 times and save the results as a vector called <code>maybe_binomial</code>.\n"
   ]
  },
  {
   "cell_type": "code",
   "execution_count": null,
   "metadata": {},
   "outputs": [],
   "source": []
  },
  {
   "cell_type": "markdown",
   "metadata": {},
   "source": [
    "\n",
    "<b> Task 3 </b><br>\n",
    "Plot a histogram of the frequency of outcomes in <code>maybe_binomial</code>. On the same axes, plot the pmf for the binomial distribution with $n=20$ and $p = 0.2$. "
   ]
  },
  {
   "cell_type": "code",
   "execution_count": null,
   "metadata": {},
   "outputs": [],
   "source": []
  },
  {
   "cell_type": "markdown",
   "metadata": {},
   "source": [
    "\n",
    "<b> Task 4 </b><br>\n",
    "Create a function that runs Bernoulli trials with $p=0.6$ until 5 successes are reached, and returns the total number of failures that occured. Run this function 10,000 times and save the results in a vector called <code> maybe_negative_binomial</code><br>"
   ]
  },
  {
   "cell_type": "code",
   "execution_count": null,
   "metadata": {},
   "outputs": [],
   "source": []
  },
  {
   "cell_type": "markdown",
   "metadata": {},
   "source": [
    "\n",
    "<b> Task 5 </b>\n",
    "Plot a histogram of the frequency of each outcome in <code>maybe_negative_binomial</code>. On the same axes, make a bar chart for the pmf for the negative binomial distribution with $r=5$ and $p=0.6$ for $x$ between 0 and 45.<br>"
   ]
  },
  {
   "cell_type": "code",
   "execution_count": null,
   "metadata": {},
   "outputs": [],
   "source": []
  }
 ],
 "metadata": {
  "language_info": {
   "name": "python"
  },
  "orig_nbformat": 4
 },
 "nbformat": 4,
 "nbformat_minor": 2
}
