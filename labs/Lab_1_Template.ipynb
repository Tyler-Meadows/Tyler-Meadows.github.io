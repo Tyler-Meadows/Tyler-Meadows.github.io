{
 "cells": [
  {
   "cell_type": "markdown",
   "metadata": {},
   "source": [
    "# Lab 1\n",
    "## My Name\n",
    "### In collaboration with ???, ???, and ???"
   ]
  },
  {
   "cell_type": "markdown",
   "metadata": {},
   "source": [
    "#### Task 1\n",
    "Make a 9x9 diagonal matrix with the numbers from 1 to 9 along the diagonal, assign it to the variable A. \n",
    "Find the inverse of A and demonstrate that $AA^{-1} =I$, where $I$ is the 9x9 identity matrix. Googling \"numpy matrix inverse\" may help. "
   ]
  },
  {
   "cell_type": "code",
   "execution_count": null,
   "metadata": {},
   "outputs": [],
   "source": []
  },
  {
   "cell_type": "markdown",
   "metadata": {},
   "source": [
    "\n",
    "#### Task 2\n",
    "Create a 5x5 matrix using the following procedure:\n",
    "1. Input the value n = 1 in the top middle entry of the matrix\n",
    "2. Input the next larger value of n in the entry one above and one to the right of the previous value of n. Wrap around the matrix if you have to (i.e. up from the top row takes you to the bottom row, and right from the last column takes you to the first column). If the next entry would overwrite an entry you've already input, move one row down from the old entry instead.\n",
    "3. Repeat step 2 until the matrix is full. \n",
    "\n",
    "Call this matrix \"magic\"\n",
    "\n",
    "In case the instructions aren't clear. Here is the procedure applied to a 3x3 matrix:\n",
    "\n",
    "$$\\begin{bmatrix} & 1 & \\\\ & & \\\\ & & \\end{bmatrix} \\to \\begin{bmatrix} & 1& \\\\ & & \\\\ & & 2\\end{bmatrix} \\to \\begin{bmatrix} & 1 & \\\\ 3 & & \\\\ & & 2\\end{bmatrix} \\to \\begin{bmatrix} & 1 & \\\\ 3 & & \\\\ 4 & & 2 \\end{bmatrix} \\to \\begin{bmatrix} & 1 & \\\\ 3 & 5 & \\\\ 4 & & 2\\end{bmatrix} \\to \\begin{bmatrix} & 1 &6 \\\\ 3 & 5 & \\\\ 4 & & 2\\end{bmatrix} \\to \\begin{bmatrix} & 1 &6 \\\\ 3 & 5 &7 \\\\ 4 & & 2\\end{bmatrix}\\to \\begin{bmatrix} 8 & 1 &6 \\\\ 3 & 5 &7 \\\\ 4 &  & 2\\end{bmatrix} \\to \\begin{bmatrix} 8 & 1 &6 \\\\ 3 & 5 &7 \\\\ 4 & 9 & 2\\end{bmatrix}$$"
   ]
  },
  {
   "cell_type": "code",
   "execution_count": null,
   "metadata": {},
   "outputs": [],
   "source": []
  },
  {
   "cell_type": "markdown",
   "metadata": {},
   "source": [
    "#### Task 3\n",
    "For each row, column and the main diagonal of the matrix created in Task 2. Print a statement of the form \"The sum of the nth row/column/main diagonal is x\" where x is the appropriate sum. Explain what you notice in a markdown cell."
   ]
  },
  {
   "cell_type": "markdown",
   "metadata": {},
   "source": []
  },
  {
   "cell_type": "markdown",
   "metadata": {},
   "source": [
    "#### Task 4\n",
    "Choose your favourite positive integer $n_0$. Create an array with only this value in it. Add values according to the following rules: If $n_0$ is even, append $n_1 = n_0/2$ to the array. If $n_0$ is even, append $n_1 = 3n_0 +1$ to the array. Repeat this process for each new integer you add until the same integer is added to the array twice. \n",
    "\n",
    "Example: for $n_0 = 3$, the sequence would be \n",
    "$$[3] \\to [3,10] \\to [3,10,5] \\to [3,10,5,16] \\to [3, 10, 5,16,8] \\to\\\\ [3,10,5,16,8,4] \\to [3,10,5,16,8,4,2] \\to [3,10,5,16,8,4,2,1] \\to [3,10,5,16,8,4,2,1,4]$$\n",
    "\n",
    "The procedure terminates since 4 is in the array twice. Hint: The \"append\" and \"count\" properties of arrays may be helpful"
   ]
  },
  {
   "cell_type": "code",
   "execution_count": null,
   "metadata": {},
   "outputs": [],
   "source": []
  },
  {
   "cell_type": "markdown",
   "metadata": {},
   "source": [
    "#### Task 5\n",
    "\n",
    "In a markdown box, solve the integral $\\int_0^\\infty xe^{-x} dx$. Show at least 2 steps and explain what you are doing.  "
   ]
  },
  {
   "cell_type": "code",
   "execution_count": 1,
   "metadata": {},
   "outputs": [
    {
     "data": {
      "text/plain": [
       "561"
      ]
     },
     "execution_count": 1,
     "metadata": {},
     "output_type": "execute_result"
    }
   ],
   "source": []
  },
  {
   "cell_type": "markdown",
   "metadata": {},
   "source": []
  }
 ],
 "metadata": {
  "kernelspec": {
   "display_name": "Python 3",
   "language": "python",
   "name": "python3"
  },
  "language_info": {
   "codemirror_mode": {
    "name": "ipython",
    "version": 3
   },
   "file_extension": ".py",
   "mimetype": "text/x-python",
   "name": "python",
   "nbconvert_exporter": "python",
   "pygments_lexer": "ipython3",
   "version": "3.10.6"
  },
  "orig_nbformat": 4
 },
 "nbformat": 4,
 "nbformat_minor": 2
}
