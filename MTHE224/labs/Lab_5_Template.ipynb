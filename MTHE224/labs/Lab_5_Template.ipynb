{
 "cells": [
  {
   "cell_type": "markdown",
   "metadata": {},
   "source": [
    "## Lab 5\n",
    "#### My Name is ??\n",
    "#### In collaboration with ?? "
   ]
  },
  {
   "cell_type": "markdown",
   "metadata": {},
   "source": [
    "### Tasks\n",
    "\n",
    "<b>Task 1</b><br>\n",
    "The Weibull distribution is a continuous probability distribution that is used to model many different random variables, such as the failure rate of mechanisms where the probability of failure increases over time. In general, the probability density function has the form \n",
    "$$ f(x) = \\begin{cases} \\frac{kx^{k-1}}{\\lambda^k}e^{-(x/\\lambda)^k} & x \\ge 0 \\\\ 0 & x < 0 \\end{cases}$$\n",
    "\n",
    "Plot the pdf for the Weibull distribution with $\\lambda = 1$ and $k = 2$. Choose an appropriate range of $x$ values so that the main features of the pdf are clear. "
   ]
  },
  {
   "cell_type": "code",
   "execution_count": null,
   "metadata": {},
   "outputs": [],
   "source": []
  },
  {
   "cell_type": "markdown",
   "metadata": {},
   "source": [
    "<b>Task 2</b><br>\n",
    "By hand, find the inverse of the CDF for the Weibull distribution with $\\lambda = 1$ and $k = 2$. Use a markdown box to record some of your steps. "
   ]
  },
  {
   "cell_type": "markdown",
   "metadata": {},
   "source": []
  },
  {
   "cell_type": "markdown",
   "metadata": {},
   "source": [
    "<b>Task 3</b> <br>\n",
    "Use the inverse CDF you found in task 2 to generate 10000 samples from the Weibull distribution with $\\lambda = 1$ and $k=2$. Plot a histogram with these samples and compare with your plot from task 1. \n",
    "\n",
    "Notes: Plot the samples and pdf from part 1 on the same axes in order to make the comparison clear.  Make sure to use the `density=True` argument in the histogram plot."
   ]
  },
  {
   "cell_type": "code",
   "execution_count": null,
   "metadata": {},
   "outputs": [],
   "source": []
  },
  {
   "cell_type": "markdown",
   "metadata": {},
   "source": [
    "<b>Task 4 </b><br>\n",
    "The Beta distribution is a continuous probability distribution that is used to describe percentages and proportions. The pdf for the Beta distribution is \n",
    "$$f(x) = \\begin{cases} \\frac{(\\alpha+\\beta-1)!}{(\\alpha-1)!(\\beta-1)!}x^{\\alpha-1}(1-x)^{\\beta-1} & x\\in(0,1)\\\\ 0  & x\\notin(0,1). \\end{cases}$$\n",
    "\n",
    "Create a function to compute the pdf of the Beta distribution. On the same axes, plot the pdf when $\\alpha =2, \\beta=2$, when $\\alpha =3, \\beta = 2$ and when $\\alpha = 5, \\beta = 2$."
   ]
  },
  {
   "cell_type": "code",
   "execution_count": null,
   "metadata": {},
   "outputs": [],
   "source": []
  },
  {
   "cell_type": "markdown",
   "metadata": {},
   "source": [
    "<b> Task 5</b> <br>\n",
    "Use the Metropolis-Hastings algorithm to sample 50,000 values from the Beta distribution with $\\alpha = 5$ and $\\beta = 2$. Plot a histogram with these samples and compare with your pdf from task 4.  "
   ]
  },
  {
   "cell_type": "code",
   "execution_count": null,
   "metadata": {},
   "outputs": [],
   "source": []
  },
  {
   "cell_type": "markdown",
   "metadata": {},
   "source": []
  }
 ],
 "metadata": {
  "kernelspec": {
   "display_name": "Python 3",
   "language": "python",
   "name": "python3"
  },
  "language_info": {
   "codemirror_mode": {
    "name": "ipython",
    "version": 3
   },
   "file_extension": ".py",
   "mimetype": "text/x-python",
   "name": "python",
   "nbconvert_exporter": "python",
   "pygments_lexer": "ipython3",
   "version": "3.10.6"
  }
 },
 "nbformat": 4,
 "nbformat_minor": 2
}
