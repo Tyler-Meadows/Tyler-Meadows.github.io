{
 "cells": [
  {
   "cell_type": "markdown",
   "metadata": {},
   "source": [
    "## Lab 9\n",
    "#### My Name is ?????????????????????????\n",
    "#### I collaborated with ????????????????"
   ]
  },
  {
   "cell_type": "markdown",
   "metadata": {},
   "source": [
    "## Tasks\n",
    "<b> Task 1 </b><br>\n",
    "Find and plot the exact solution to the initial value problem \n",
    "\\begin{equation}\n",
    " \\frac{d^2y}{dt} + 2\\frac{dy}{dt} + 5y = 0, \\qquad y(0) = 0,~~ y'(0) = 1\n",
    "\\end{equation}\n",
    "for $t\\in(0,30)$. "
   ]
  },
  {
   "cell_type": "code",
   "execution_count": null,
   "metadata": {},
   "outputs": [],
   "source": []
  },
  {
   "cell_type": "markdown",
   "metadata": {},
   "source": [
    "<b> Task 2 </b><br>\n",
    "Convert the second order equation from task 1 into a system of two first order equations, one for $z_1 = y$ and one for $z_2 = dy/dt$. Create a function to compute the right hand side of this system, and use <code>scipy</code>'s ivp solver to plot an approximate solution. "
   ]
  },
  {
   "cell_type": "code",
   "execution_count": null,
   "metadata": {},
   "outputs": [],
   "source": []
  },
  {
   "cell_type": "markdown",
   "metadata": {},
   "source": [
    "<b> Task 3</b><br>\n",
    "It can be helpful to visualize solutions in the \"phase plane\", which is done by plotting $y$ vs $\\frac{dy}{dt}$, or in terms of this system, $z_1$ vs $z_2$.\n",
    "\n",
    "Create a direction field where your $u$ values are $\\frac{dz_1}{dt}$ and your $v$ values are $\\frac{dz_2}{dt}$. Plot the solution from task 2 over this direction field. In a markdown box, describe what you see."
   ]
  },
  {
   "cell_type": "code",
   "execution_count": null,
   "metadata": {},
   "outputs": [],
   "source": []
  },
  {
   "cell_type": "markdown",
   "metadata": {},
   "source": []
  },
  {
   "cell_type": "markdown",
   "metadata": {},
   "source": [
    "<b>Task 4</b><br>\n",
    "The following nonlinear second order ODE is called the Van der Pol equation\n",
    "\\begin{align*}\n",
    "\\frac{d^2y}{dt^2} - (1-y^2)\\frac{dy}{dt} +y= 0. \n",
    "\\end{align*}\n",
    "We cannot find an explicit solution to this equation.\n",
    "\n",
    "Instead, convert this equation to a system of first order equations and find an approximate solution $y(t)$ that satisfies $y(0) = 1,~~y'(0)=0$.\n",
    "\n",
    "Plot $y(t)$ for $t\\in(0,20)$\n"
   ]
  },
  {
   "cell_type": "code",
   "execution_count": null,
   "metadata": {},
   "outputs": [],
   "source": []
  },
  {
   "cell_type": "markdown",
   "metadata": {},
   "source": [
    "<b>Task 5</b><br>\n",
    "Create a phase plot of the approximate solution you found in task 4 (similar to what you did in task 3).\n",
    "\n",
    "Find and plot approximate solutions with four other choices of initial conditions on your phase plot.\n",
    "\n",
    "In a markdown box, describe what you see."
   ]
  },
  {
   "cell_type": "code",
   "execution_count": null,
   "metadata": {},
   "outputs": [],
   "source": []
  },
  {
   "cell_type": "markdown",
   "metadata": {},
   "source": []
  }
 ],
 "metadata": {
  "kernelspec": {
   "display_name": "Python 3.10.6 64-bit",
   "language": "python",
   "name": "python3"
  },
  "language_info": {
   "codemirror_mode": {
    "name": "ipython",
    "version": 3
   },
   "file_extension": ".py",
   "mimetype": "text/x-python",
   "name": "python",
   "nbconvert_exporter": "python",
   "pygments_lexer": "ipython3",
   "version": "3.10.6"
  },
  "orig_nbformat": 4,
  "vscode": {
   "interpreter": {
    "hash": "097b9f63d7da6c11b7105d1f20b6727871c6d5f42e3bdf986d628d37c196f20c"
   }
  }
 },
 "nbformat": 4,
 "nbformat_minor": 2
}
