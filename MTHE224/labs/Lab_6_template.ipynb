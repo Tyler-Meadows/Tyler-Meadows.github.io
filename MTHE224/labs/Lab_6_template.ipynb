{
 "cells": [
  {
   "cell_type": "markdown",
   "metadata": {},
   "source": [
    "## Lab 6\n",
    "#### My Name is ??\n",
    "#### In collaboration with ?? "
   ]
  },
  {
   "cell_type": "markdown",
   "metadata": {},
   "source": [
    "<b>Task 1</b><br>\n",
    "Sample 100 values from a binomial distribution with $n=100$ and $p =0.25$. \n",
    "Calculate the sample mean $\\mu_X$ and sample variance $\\sigma_X^2$ of the sampled using the formulae \n",
    "$$\\mu_X =\\frac{1}{n} \\sum_{j=1}^{n} x_j$$\n",
    "$$\\sigma_X^2 = \\frac{1}{n-1}\\sum_{j=1}^{n} (x_j-\\mu )^2. $$\n",
    "Compare these values with the theoretical values for the exponential distribution $\\mu = np$ and $\\sigma^2 = np(1-p)$."
   ]
  },
  {
   "cell_type": "code",
   "execution_count": null,
   "metadata": {},
   "outputs": [],
   "source": []
  },
  {
   "cell_type": "markdown",
   "metadata": {},
   "source": [
    "<b>Task 2</b><br>\n",
    "Plot a histogram of the sampled data. On the same axes, plot the pdf for a normal distribution with with the theoretical mean and variance from task 1. In a markdown box, explain what you see. Based on this visual inspection, do you think the data are normally distributed?"
   ]
  },
  {
   "cell_type": "code",
   "execution_count": null,
   "metadata": {},
   "outputs": [],
   "source": []
  },
  {
   "cell_type": "markdown",
   "metadata": {},
   "source": [
    "<b>Task 3</b><br>\n",
    "Create a function to calculuate the empirical density function of the data. Plot the empirical density function on the same axes as the cdf for the normal distribution in task 2. In a markdown box, describe what you notice.  "
   ]
  },
  {
   "cell_type": "code",
   "execution_count": null,
   "metadata": {},
   "outputs": [],
   "source": []
  },
  {
   "cell_type": "markdown",
   "metadata": {},
   "source": [
    "<b>Task 4</b><br>\n",
    "Create a function that calculates the test statistic $D_n$. Use this function to conduct a hypothesis test to determine if $D_n$ is different from zero with significance $\\alpha = 0.05$. I.e. you should reject the null hypothesis if  $D_n > K_\\alpha$ where you can find the critical value $K_\\alpha$ using `scipy.stats.kstwobign.ppf(1-alpha)`.\n",
    "\n",
    "In a markdown box, explain what you are using as your null hypothesis, what the alternative hypothesis is, and what you conclude from your hypothesis test."
   ]
  },
  {
   "cell_type": "code",
   "execution_count": 3,
   "metadata": {},
   "outputs": [
    {
     "data": {
      "text/plain": [
       "0.021063768720769184"
      ]
     },
     "execution_count": 3,
     "metadata": {},
     "output_type": "execute_result"
    }
   ],
   "source": []
  },
  {
   "cell_type": "markdown",
   "metadata": {},
   "source": [
    "<b>Task 5</b><br>\n",
    "Sample 1000 values from an exponential distribution with $\\lambda = 2$. Implement the same procedure as in tasks 1-4 with these data to determine if they are normally distributed. "
   ]
  },
  {
   "cell_type": "markdown",
   "metadata": {},
   "source": []
  }
 ],
 "metadata": {
  "kernelspec": {
   "display_name": "Python 3",
   "language": "python",
   "name": "python3"
  },
  "language_info": {
   "codemirror_mode": {
    "name": "ipython",
    "version": 3
   },
   "file_extension": ".py",
   "mimetype": "text/x-python",
   "name": "python",
   "nbconvert_exporter": "python",
   "pygments_lexer": "ipython3",
   "version": "3.10.6"
  }
 },
 "nbformat": 4,
 "nbformat_minor": 2
}
