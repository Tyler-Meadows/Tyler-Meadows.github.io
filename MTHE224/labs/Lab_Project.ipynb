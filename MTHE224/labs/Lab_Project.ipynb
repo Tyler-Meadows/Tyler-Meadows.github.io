{
 "cells": [
  {
   "cell_type": "markdown",
   "metadata": {},
   "source": [
    "## Lab Final Project\n",
    "\n",
    "#### The Problem\n",
    "Wastewater treatement is an important civil engineering discipline. One major aspect of wastewater treatment is designing treatment facilities so that a majority of the harmful components in wastewater are removed before the treated water is returned to the environment.\n",
    "\n",
    "One type of wastewater treatment reactor is called a moving-bed biofilm reactor. These reactors utilize bacteria that have formed biofilms on a bed of beads that are located on the bottom of a treatment tank. The bacteria consume harmful nitrites in the water as part of their regular metabolism, and convert them to less harmful nitrates. Polluted water is input at the top of the tank, diffuses through the bacteria covered beads, and cleaner water is released from bottom of the tank.\n",
    "\n",
    "The concentration of nitrites in the water is described by a complicated system of partial differential equations, which eventually reaches a spatially distributed equilibrium concentration. The equilibrium distribution of nitrite concentration is described by the comparatively simple nonlinear boundary value problem \n",
    "\\begin{align}\n",
    "    D\\frac{d^2C}{dx^2}=  \\frac{mC}{K+C} && C(0) = C^{\\rm{in}},\\quad C'(L) = 0,\n",
    "\\end{align}\n",
    "where $x$ is the depth of the tank with $x=0$ corresponding to the top of the bead bed and $x=L$ corresponding to \n",
    "the bottom of the tank, $C(x)$ is the concentration of nitrites at depth $x$, $D$ is the diffision rate, which describes the speed at which the nitrites spread, $m$ is the maximum rate at which the bacteria can absorb the nitrites, $K$ is called the \"half-saturation concentration\", which is the concentration at which the uptake rate is half of its maximum speed.\n",
    "\n",
    "<b> Task 1</b><br>\n",
    "In a markdown box, explain the physical meaning of the two boundary conditions."
   ]
  },
  {
   "cell_type": "markdown",
   "metadata": {},
   "source": []
  },
  {
   "cell_type": "markdown",
   "metadata": {},
   "source": [
    "This equation is a second order nonlinear ode, and has no closed form solution in terms of analytical functions. The tools we have learned in labs so far are not directly useful to find approximate solutions, but there are a few methods that can be used to solve nonlinear boundary values problems that build off of what we have discussed.\n",
    "\n",
    "The remaining tasks in this lab will lead you through one method to find approximate solutions to this differential equation. \n",
    "\n",
    "### The Shooting Method\n",
    "<b>How the method works:</b> \n",
    "Non-linear initial value problems are often solved more easily than boundary-value problems, since can make use of the methods like Euler's method, The Trapezoidal Rule, and scipy's integration functions. Instead of considering the boundary value problem, we consider the related initial-value problem\n",
    "\\begin{align}\n",
    "    D\\frac{d^2C}{dx^2} &= \\frac{mC}{K+C} &&C(0) = C^{\\rm{in}},~~ C'(0) = \\gamma.\n",
    "\\end{align}\n",
    "Let $C(t;\\gamma)$ be the solution to this initial value problem with $C'(0) = \\gamma$. The shooting method works by adjusting $\\gamma$ until the end point $C'(L;\\gamma)$ is close to the boundary value at $x = L$. We can think of the boundary condition $C'(L) = 0$ as a target we're shooting at, and $\\gamma$ as the angle that we're aiming. If we take two shots at the target and one shot goes high, while and the other goes low, then we know that we need to aim somewhere in the middle of those two shots. \n",
    "\n",
    "### A Simpler Example\n",
    "\n",
    "To illustrate, consider the equation for the height of a projectile moving with a constant speed in the $x$ direction that starts on the ground at $x=0$ and lands at $x=10.$ \n",
    "\\begin{align}\n",
    " \\frac{d^2y}{dx^2} = -2 && y(0) = 0, y(10) = 0.\n",
    "\\end{align}\n",
    "\n",
    "<b>Task 2</b><br>\n",
    "Find the exact solution to this boundary value problem. Outline your process in a markdown box."
   ]
  },
  {
   "cell_type": "markdown",
   "metadata": {},
   "source": []
  },
  {
   "cell_type": "markdown",
   "metadata": {},
   "source": [
    "We can define the related initial value problem\n",
    "\\begin{align}\n",
    " \\frac{d^2y}{dx^2} = -2 && y(0) = 0, y'(0) = \\gamma,\n",
    "\\end{align}\n",
    "where $\\gamma$ represents the angle at which the projectile is fired. We can denote the solution with a specific choice of $\\gamma$ by $y(x;\\gamma)$. \n",
    "\n",
    "<b>Task 3</b><br>\n",
    "Convert this initial value problem for the projectile to a system of first order ordinary differential equations. Create a function <code>f(x,y)</code> for the right hand side of this system. \n",
    "\n",
    "<b>Task 4</b><br>\n",
    "Write a function called <code>shoot(gamma)</code> that takes a single value $\\gamma$ and returns an approximate solution to the initial value problem. <b>Hint:</b> Use the solve_ivp function from lab 9.\n",
    "\n",
    "<b>Task 5</b><br>\n",
    "Choose a value $a$ so that the approximate solution $y(x;a)$ to the initial value problem with $\\gamma = a$ undershoots the target of $x=10$, and a value $b$ so that the approximate solution $y(x;b)$ to the initial value problem with $\\gamma = b$ overshoots the target of $y=0$ at $x=10.$ Plot these approximate solutions, and indicate the intended target of $y=0$ at $x=10.$\n",
    "\n"
   ]
  },
  {
   "cell_type": "code",
   "execution_count": null,
   "metadata": {},
   "outputs": [],
   "source": []
  },
  {
   "cell_type": "markdown",
   "metadata": {},
   "source": [
    "#### The Bisection Method\n",
    "\n",
    "The bisection method is an iteration scheme that can be used to adjust our aim in a systematic way in order to eventually hit&mdash;or at least get very close to&mdash;the target. Let $a$ and $b$ be the two numbers from task 5. They statisfy $y(10;a)<0$ and $y(10;b)<0$. The bisection method works by repeating the following steps: \n",
    "\n",
    "1. Define $d = \\frac{a+b}{2}$\n",
    "2. If $y(10;d) < 0$ then let $a = d$. <br> If $y(10;d) > 0$ then let $b = d$.\n",
    "\n",
    "\n",
    "<b>Task 6</b><br>\n",
    "Create a loop that implements the bisection method on <code>shoot(gamma)</code> until $|y(10;d)| < 10^{-6}$, beginning with the values of $a$ and $b$ from Task 5.\n",
    "\n",
    "Save the values of $y(10;d)$ at each iteration in a vector, and plot the results.\n"
   ]
  },
  {
   "cell_type": "code",
   "execution_count": null,
   "metadata": {},
   "outputs": [],
   "source": []
  },
  {
   "cell_type": "markdown",
   "metadata": {},
   "source": [
    "<b>Task 7</b><br>\n",
    "On the same axes as the true solution found in task 2, plot the approximate solution found in task 6."
   ]
  },
  {
   "cell_type": "code",
   "execution_count": null,
   "metadata": {},
   "outputs": [],
   "source": []
  },
  {
   "cell_type": "markdown",
   "metadata": {},
   "source": [
    "### Back to the Problem\n",
    "\n",
    "For what follows, assume $D=0.5,~m=3,~K=4,~L=1,$ and $C^{\\rm{in}} = 1$ \n",
    "\n",
    "<b>Task 8</b><br>\n",
    "Write the differential equation for $C$ as a system of first order differential equations\n",
    "\n",
    "<b>Task 9</b><br>\n",
    "Write a function called <code>shoot2(gamma)</code> that takes a single value $\\gamma$ and returns an approximate solution to the initial value problem in task 8. \n",
    "\n",
    "<b>Task 10</b><br>\n",
    "Find values $a$ and $b$ so that $C'(1;a)< 0 $ and $C'(1;b) > 0.$ Plot these solutions, and describe in a markdown box how you know they land on either side of your \"target\"."
   ]
  },
  {
   "cell_type": "code",
   "execution_count": null,
   "metadata": {},
   "outputs": [],
   "source": []
  },
  {
   "cell_type": "markdown",
   "metadata": {},
   "source": [
    "<b>Task 11</b><br>\n",
    "Create a loop to implement the bisection method on <code>shoot2(gamma)</code> until $|C'(2;d)| < 10^{-5}$.\n",
    "\n",
    "<b>Task 12</b><br>\n",
    "Plot the approximate solution found in task 11. Indicate on the plot in some way that the boundary condition $C'(1)=0$ is satisfied."
   ]
  },
  {
   "cell_type": "markdown",
   "metadata": {},
   "source": []
  },
  {
   "cell_type": "code",
   "execution_count": null,
   "metadata": {},
   "outputs": [],
   "source": []
  },
  {
   "cell_type": "markdown",
   "metadata": {},
   "source": [
    "<b> Task 13</b><br>\n",
    "Environment Canada requires that the average concentration of nitrites in treated water be below a certain level. The average concentration of nitrites in the tank is given by \n",
    "\\begin{equation}\n",
    "    \\frac{1}{L}\\int_0^L C(x) dx.\n",
    "\\end{equation}\n",
    "Use the approximate solution found in task 11 to approximate the average concentration. <b>Hint:</b> Integrals can be approximated using a Riemann sum \n",
    "$$ \\int_a^b f(x)dx \\approx \\sum_{j=1}^n f(a+j\\Delta x) \\Delta x $$\n",
    "where $\\Delta x = (b-a)/n.$\n"
   ]
  },
  {
   "cell_type": "code",
   "execution_count": null,
   "metadata": {},
   "outputs": [],
   "source": []
  },
  {
   "cell_type": "markdown",
   "metadata": {},
   "source": [
    "<b>Task 14 </b><br> \n",
    "Based on this model, what could you do to lower the nitrite concentration? <br> <i> Think about what you would actually have control over in practice, and how that would relate to the parameters in the equation.</i> "
   ]
  },
  {
   "cell_type": "markdown",
   "metadata": {},
   "source": []
  },
  {
   "cell_type": "markdown",
   "metadata": {},
   "source": [
    "<b>Task 15</b><br>\n",
    "In order to justify your response in task 14, plot how the average concentration changes as you make the changes you suggested. "
   ]
  },
  {
   "cell_type": "code",
   "execution_count": null,
   "metadata": {},
   "outputs": [],
   "source": []
  },
  {
   "cell_type": "markdown",
   "metadata": {},
   "source": []
  }
 ],
 "metadata": {
  "kernelspec": {
   "display_name": "Python 3.10.6 64-bit",
   "language": "python",
   "name": "python3"
  },
  "language_info": {
   "name": "python",
   "version": "3.10.6"
  },
  "orig_nbformat": 4,
  "vscode": {
   "interpreter": {
    "hash": "097b9f63d7da6c11b7105d1f20b6727871c6d5f42e3bdf986d628d37c196f20c"
   }
  }
 },
 "nbformat": 4,
 "nbformat_minor": 2
}
