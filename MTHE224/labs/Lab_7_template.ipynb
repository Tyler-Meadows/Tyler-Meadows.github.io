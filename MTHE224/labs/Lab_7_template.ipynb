{
 "cells": [
  {
   "cell_type": "markdown",
   "metadata": {},
   "source": [
    "## Lab 7\n",
    "#### My Name is ??\n",
    "#### In collaboration with ?? "
   ]
  },
  {
   "cell_type": "markdown",
   "metadata": {},
   "source": [
    "## Tasks\n",
    "\n",
    "<b> Task 1 </b><br>\n",
    "Create a direction field for the differential equation $$\\frac{dy}{dt} = y\\left(1-\\frac{y}{2}\\right)$$ for $t\\in(0,10)$ and $y \\in (0,4)$"
   ]
  },
  {
   "cell_type": "code",
   "execution_count": null,
   "metadata": {},
   "outputs": [],
   "source": [
    "\n"
   ]
  },
  {
   "cell_type": "markdown",
   "metadata": {},
   "source": [
    "<b> Task 2 </b> <br>\n",
    "A one parameter family of solutions to the equation from task 1 is \n",
    "$$ y(t) = \\frac{2Ce^{t}}{1+Ce^{t}}.$$\n",
    "On the same plot as the direction field from task 1, plot the solutions corresponding to the initial conditions $y(0) = 1$ and $y(0) = 3$. In a markdown box, explain how you found $C$, and what happens to each solution."
   ]
  },
  {
   "cell_type": "code",
   "execution_count": null,
   "metadata": {},
   "outputs": [],
   "source": []
  },
  {
   "cell_type": "markdown",
   "metadata": {},
   "source": [
    "<b> Task 3 </b><br>\n",
    "A canoer is trying to get to their campsite located at (0,0). They always keep the nose of their boat pointed towards their camp site and paddle at a steady 4km/h, but are dealing with a constant 2km/h current pulling them due north. The position of the canoe in $\\mathbb{R}^2$ is given by $(x,y)$ where \n",
    "$$ \\frac{dx}{dt} = -\\frac{4x}{\\sqrt{x^2+y^2}}$$\n",
    "$$ \\frac{dy}{dt} = -\\frac{4y}{\\sqrt{x^2+y^2}}+2$$\n",
    "describe the direction the canoe is pointing. Plot a direction field with $(x,y) \\in [0,5]\\times[-2,2]$.\n",
    "\n",
    "<i>Hint:</i> Use $dy/dt$ as the $v$-component of the quiver function, and $dx/dt$ as the $u$-component of the quiver function"
   ]
  },
  {
   "cell_type": "code",
   "execution_count": null,
   "metadata": {},
   "outputs": [],
   "source": []
  },
  {
   "cell_type": "markdown",
   "metadata": {},
   "source": [
    "<b> Task 4 </b><br>\n",
    "Suppose that the canoe starts at a point $4$ km due east of the campsite.\n",
    "\n",
    "The previous equation can be written in parametric form by dividing the $\\frac{dy}{dt}$ equation by the $\\frac{dx}{dt}$ equation, giving \n",
    "$$ \\frac{dy}{dx} = \\frac{y - \\frac{1}{2} \\sqrt{x^2+y^2}}{x}$$\n",
    "This is a 1st order differential equation for $y$. A solution to this equation is given by \n",
    "$$ y(x) = 2\\left[\\left(\\frac{x}{4}\\right)^{1/2}-\\left(\\frac{x}{4}\\right)^{3/2}\\right]$$\n",
    "In a markdown box, verify that this is a solution for $x \\in (0,\\infty)$ with $(y_0,x_0) = (0,4)$"
   ]
  },
  {
   "cell_type": "code",
   "execution_count": 3,
   "metadata": {},
   "outputs": [
    {
     "data": {
      "text/plain": [
       "0.021063768720769184"
      ]
     },
     "execution_count": 3,
     "metadata": {},
     "output_type": "execute_result"
    }
   ],
   "source": []
  },
  {
   "cell_type": "markdown",
   "metadata": {},
   "source": [
    "<b>Task 5</b><br>\n",
    "Plot the solution from task 4 on the same plot as the direction field from task 3. Indicate on the plot where the starting and ending points are."
   ]
  },
  {
   "cell_type": "markdown",
   "metadata": {},
   "source": []
  }
 ],
 "metadata": {
  "kernelspec": {
   "display_name": "Python 3",
   "language": "python",
   "name": "python3"
  },
  "language_info": {
   "codemirror_mode": {
    "name": "ipython",
    "version": 3
   },
   "file_extension": ".py",
   "mimetype": "text/x-python",
   "name": "python",
   "nbconvert_exporter": "python",
   "pygments_lexer": "ipython3",
   "version": "3.10.6"
  }
 },
 "nbformat": 4,
 "nbformat_minor": 2
}
