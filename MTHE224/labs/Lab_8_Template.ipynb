{
 "cells": [
  {
   "cell_type": "markdown",
   "metadata": {},
   "source": [
    "## Lab 8\n",
    "#### My Name is  ??????????????????\n",
    "#### I collaborated with ????????????????????"
   ]
  },
  {
   "cell_type": "markdown",
   "metadata": {},
   "source": [
    "### Tasks \n",
    "\n",
    "<b> Task 1</b><br>\n",
    "The following code is meant to define a function that computes Euler's method for us. It has 4 arguments, <code>F</code> is the right hand side of the differential equation, <code>y0</code> is the initial value of $y$, <code>tspan</code> is a pair of values for the starting value of $t$ and the ending value of $t$, and <code>h</code> is the step size. Unfortunately, this function has a few errors and doesn't work. \n",
    "\n",
    "Fix this function."
   ]
  },
  {
   "cell_type": "code",
   "execution_count": 5,
   "metadata": {},
   "outputs": [
    {
     "ename": "SyntaxError",
     "evalue": "expected ':' (238100796.py, line 1)",
     "output_type": "error",
     "traceback": [
      "\u001b[1;36m  Input \u001b[1;32mIn [5]\u001b[1;36m\u001b[0m\n\u001b[1;33m    def Euler(F,y0,tspan,h)\u001b[0m\n\u001b[1;37m                           ^\u001b[0m\n\u001b[1;31mSyntaxError\u001b[0m\u001b[1;31m:\u001b[0m expected ':'\n"
     ]
    },
    {
     "ename": "",
     "evalue": "",
     "output_type": "error",
     "traceback": [
      "\u001b[1;31mThe Kernel crashed while executing code in the the current cell or a previous cell. Please review the code in the cell(s) to identify a possible cause of the failure. Click <a href='https://aka.ms/vscodeJupyterKernelCrash'>here</a> for more info. View Jupyter <a href='command:jupyter.viewOutput'>log</a> for further details."
     ]
    }
   ],
   "source": [
    "def Euler(F,y0,tspan,h)\n",
    "    t = np.arrange(tspan[0],tspan[1],h) # Make t-values. Arange(a,b,h) makes a vector of values from (a,b) spaced h apart\n",
    "    y = np.zeros_like(t) # Make y values\n",
    "     y[0] = y_0 # Set first y  value\n",
    "    for j in range(1,len(t)): # Make all the y values\n",
    "        y[j+1] = F(t[j-1],y[j-1]) * H + y[j-1]\n",
    "    t,y #Return t and y"
   ]
  },
  {
   "cell_type": "markdown",
   "metadata": {},
   "source": [
    "<b> Task 2</b><br>\n",
    "Find (by hand) and plot the actual solution to the initial value problem for $t \\in (0,10)$\n",
    "\\begin{equation}\n",
    "    \\frac{dy}{dt} + \\frac{2t}{2+t^2}y = 1, \\qquad y(0) = 1.\n",
    "\\end{equation}"
   ]
  },
  {
   "cell_type": "code",
   "execution_count": null,
   "metadata": {},
   "outputs": [],
   "source": []
  },
  {
   "cell_type": "markdown",
   "metadata": {},
   "source": [
    "<b> Task 3</b><br>\n",
    "Verify that you fixed the <code>Euler</code> function from task 1 by using it to plot an approximate solution with $h = 10^{-4}$.  "
   ]
  },
  {
   "cell_type": "code",
   "execution_count": null,
   "metadata": {},
   "outputs": [],
   "source": []
  },
  {
   "cell_type": "markdown",
   "metadata": {},
   "source": [
    "<b> Task 4</b><br>\n",
    "An improvement on Euler's method is called the trapezoid method. Instead of computing the value on the tangent line at one point, we compute it at two different points and averages them. The iterative scheme for the trapezoid method is described by \n",
    "\\begin{align}\n",
    "    t_{n+1} &= t_n + h,\\\\\n",
    "    \\tilde{y}_{n+1} &= F(t_n,y_n)h + y_n,\\\\\n",
    "    y_{n+1} &= \\Big(F(t_n,y_n)+F(t_{n+1},\\tilde{y}_{n+1})\\Big)\\frac{h}{2}+y_n. \n",
    "\\end{align}\n",
    "The value $\\tilde{y}_{n+1}$ is the value that would be found by Euler's method. Instead, it is used to calculate a better approximation, $y_{n+1}$\n",
    "\n",
    "Write a function <code>Trapezoid</code> to compute the trapezoid method, similar to <code>Euler</code> from Task 1. "
   ]
  },
  {
   "cell_type": "code",
   "execution_count": null,
   "metadata": {},
   "outputs": [],
   "source": []
  },
  {
   "cell_type": "markdown",
   "metadata": {},
   "source": [
    "<b> Task 5</b><br>\n",
    "We can't find a solution to the ordinary differential equation\n",
    "\\begin{equation}\n",
    "    \\frac{dy}{dt} +\\cos(y) = \\cos(t).\n",
    "\\end{equation}\n",
    "Plot a direction field for this differential equation, and use your <code> Trapezoid </code> function from task 4 to plot approximate solutions for the initial conditions $y(0) = -1.0$, $y(0) = 0.0$, $y(0)=1.0$, and $y(0) = 2.0$ for $t \\in (0,10)$. "
   ]
  },
  {
   "cell_type": "code",
   "execution_count": null,
   "metadata": {},
   "outputs": [],
   "source": []
  }
 ],
 "metadata": {
  "kernelspec": {
   "display_name": "Python 3.10.6 64-bit",
   "language": "python",
   "name": "python3"
  },
  "language_info": {
   "codemirror_mode": {
    "name": "ipython",
    "version": 3
   },
   "file_extension": ".py",
   "mimetype": "text/x-python",
   "name": "python",
   "nbconvert_exporter": "python",
   "pygments_lexer": "ipython3",
   "version": "3.10.6"
  },
  "orig_nbformat": 4,
  "vscode": {
   "interpreter": {
    "hash": "097b9f63d7da6c11b7105d1f20b6727871c6d5f42e3bdf986d628d37c196f20c"
   }
  }
 },
 "nbformat": 4,
 "nbformat_minor": 2
}
